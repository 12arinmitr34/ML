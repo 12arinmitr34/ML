{
 "cells": [
  {
   "cell_type": "code",
   "execution_count": 101,
   "id": "33ff3303",
   "metadata": {},
   "outputs": [],
   "source": [
    "import os\n",
    "import numpy as np\n",
    "import pandas as pd\n",
    "import matplotlib.pyplot as plt\n",
    "%matplotlib inline\n",
    "import seaborn as sns\n",
    "sns.set()\n",
    "import warnings\n",
    "warnings.filterwarnings('ignore')\n",
    "from sklearn.preprocessing import StandardScaler\n",
    "from sklearn.preprocessing import LabelEncoder\n",
    "from sklearn.model_selection import train_test_split\n",
    "from sklearn.model_selection import cross_val_score\n",
    "from statsmodels.stats.outliers_influence import variance_inflation_factor\n",
    "from statsmodels.regression.linear_model import OLS\n",
    "import statsmodels.regression.linear_model as smf\n",
    "from xgboost import XGBRegressor\n",
    "from sklearn.metrics import r2_score"
   ]
  },
  {
   "cell_type": "code",
   "execution_count": 2,
   "id": "0ab9533e",
   "metadata": {},
   "outputs": [
    {
     "data": {
      "text/html": [
       "<div>\n",
       "<style scoped>\n",
       "    .dataframe tbody tr th:only-of-type {\n",
       "        vertical-align: middle;\n",
       "    }\n",
       "\n",
       "    .dataframe tbody tr th {\n",
       "        vertical-align: top;\n",
       "    }\n",
       "\n",
       "    .dataframe thead th {\n",
       "        text-align: right;\n",
       "    }\n",
       "</style>\n",
       "<table border=\"1\" class=\"dataframe\">\n",
       "  <thead>\n",
       "    <tr style=\"text-align: right;\">\n",
       "      <th></th>\n",
       "      <th>Link</th>\n",
       "      <th>Make</th>\n",
       "      <th>Type</th>\n",
       "      <th>Year</th>\n",
       "      <th>Origin</th>\n",
       "      <th>Color</th>\n",
       "      <th>Options</th>\n",
       "      <th>Engine_Size</th>\n",
       "      <th>Fuel_Type</th>\n",
       "      <th>Gear_Type</th>\n",
       "      <th>Condition</th>\n",
       "      <th>Mileage</th>\n",
       "      <th>Region</th>\n",
       "      <th>Price</th>\n",
       "      <th>Negotiable</th>\n",
       "    </tr>\n",
       "  </thead>\n",
       "  <tbody>\n",
       "    <tr>\n",
       "      <th>0</th>\n",
       "      <td>https://syarah.com/%D9%83%D8%B1%D8%A7%D9%8A%D8...</td>\n",
       "      <td>Chrysler</td>\n",
       "      <td>C300</td>\n",
       "      <td>2018</td>\n",
       "      <td>Saudi</td>\n",
       "      <td>Black</td>\n",
       "      <td>Full</td>\n",
       "      <td>5.7</td>\n",
       "      <td>Gas</td>\n",
       "      <td>Automatic</td>\n",
       "      <td>Used</td>\n",
       "      <td>103000</td>\n",
       "      <td>Riyadh</td>\n",
       "      <td>114000</td>\n",
       "      <td>False</td>\n",
       "    </tr>\n",
       "    <tr>\n",
       "      <th>1</th>\n",
       "      <td>https://syarah.com/%D9%86%D9%8A%D8%B3%D8%A7%D9...</td>\n",
       "      <td>Nissan</td>\n",
       "      <td>Patrol</td>\n",
       "      <td>2016</td>\n",
       "      <td>Saudi</td>\n",
       "      <td>White</td>\n",
       "      <td>Full</td>\n",
       "      <td>4.8</td>\n",
       "      <td>Gas</td>\n",
       "      <td>Automatic</td>\n",
       "      <td>Used</td>\n",
       "      <td>5448</td>\n",
       "      <td>Riyadh</td>\n",
       "      <td>Negotiable</td>\n",
       "      <td>True</td>\n",
       "    </tr>\n",
       "    <tr>\n",
       "      <th>2</th>\n",
       "      <td>https://syarah.com/online/%D9%86%D9%8A%D8%B3%D...</td>\n",
       "      <td>Nissan</td>\n",
       "      <td>Sunny</td>\n",
       "      <td>2019</td>\n",
       "      <td>Saudi</td>\n",
       "      <td>Silver</td>\n",
       "      <td>Standard</td>\n",
       "      <td>1.5</td>\n",
       "      <td>Gas</td>\n",
       "      <td>Automatic</td>\n",
       "      <td>Used</td>\n",
       "      <td>72418</td>\n",
       "      <td>Riyadh</td>\n",
       "      <td>27500</td>\n",
       "      <td>False</td>\n",
       "    </tr>\n",
       "    <tr>\n",
       "      <th>3</th>\n",
       "      <td>https://syarah.com/online/%D9%87%D9%88%D9%86%D...</td>\n",
       "      <td>Hyundai</td>\n",
       "      <td>Elantra</td>\n",
       "      <td>2019</td>\n",
       "      <td>Saudi</td>\n",
       "      <td>Grey</td>\n",
       "      <td>Standard</td>\n",
       "      <td>1.6</td>\n",
       "      <td>Gas</td>\n",
       "      <td>Automatic</td>\n",
       "      <td>Used</td>\n",
       "      <td>114154</td>\n",
       "      <td>Riyadh</td>\n",
       "      <td>43000</td>\n",
       "      <td>False</td>\n",
       "    </tr>\n",
       "    <tr>\n",
       "      <th>4</th>\n",
       "      <td>https://syarah.com/online/%D9%87%D9%88%D9%86%D...</td>\n",
       "      <td>Hyundai</td>\n",
       "      <td>Elantra</td>\n",
       "      <td>2019</td>\n",
       "      <td>Saudi</td>\n",
       "      <td>Silver</td>\n",
       "      <td>Semi Full</td>\n",
       "      <td>2.0</td>\n",
       "      <td>Gas</td>\n",
       "      <td>Automatic</td>\n",
       "      <td>Used</td>\n",
       "      <td>41912</td>\n",
       "      <td>Riyadh</td>\n",
       "      <td>59500</td>\n",
       "      <td>False</td>\n",
       "    </tr>\n",
       "  </tbody>\n",
       "</table>\n",
       "</div>"
      ],
      "text/plain": [
       "                                                Link      Make     Type  Year  \\\n",
       "0  https://syarah.com/%D9%83%D8%B1%D8%A7%D9%8A%D8...  Chrysler     C300  2018   \n",
       "1  https://syarah.com/%D9%86%D9%8A%D8%B3%D8%A7%D9...    Nissan   Patrol  2016   \n",
       "2  https://syarah.com/online/%D9%86%D9%8A%D8%B3%D...    Nissan    Sunny  2019   \n",
       "3  https://syarah.com/online/%D9%87%D9%88%D9%86%D...   Hyundai  Elantra  2019   \n",
       "4  https://syarah.com/online/%D9%87%D9%88%D9%86%D...   Hyundai  Elantra  2019   \n",
       "\n",
       "  Origin   Color    Options  Engine_Size Fuel_Type  Gear_Type Condition  \\\n",
       "0  Saudi   Black       Full          5.7       Gas  Automatic      Used   \n",
       "1  Saudi   White       Full          4.8       Gas  Automatic      Used   \n",
       "2  Saudi  Silver   Standard          1.5       Gas  Automatic      Used   \n",
       "3  Saudi    Grey   Standard          1.6       Gas  Automatic      Used   \n",
       "4  Saudi  Silver  Semi Full          2.0       Gas  Automatic      Used   \n",
       "\n",
       "   Mileage  Region       Price  Negotiable  \n",
       "0   103000  Riyadh      114000       False  \n",
       "1     5448  Riyadh  Negotiable        True  \n",
       "2    72418  Riyadh       27500       False  \n",
       "3   114154  Riyadh       43000       False  \n",
       "4    41912  Riyadh       59500       False  "
      ]
     },
     "execution_count": 2,
     "metadata": {},
     "output_type": "execute_result"
    }
   ],
   "source": [
    "data=pd.read_csv('UsedCarsSA_Unclean_EN.csv')\n",
    "data.head()"
   ]
  },
  {
   "cell_type": "code",
   "execution_count": 3,
   "id": "9c58b4a7",
   "metadata": {},
   "outputs": [
    {
     "data": {
      "text/plain": [
       "(8248, 15)"
      ]
     },
     "execution_count": 3,
     "metadata": {},
     "output_type": "execute_result"
    }
   ],
   "source": [
    "data.shape"
   ]
  },
  {
   "cell_type": "code",
   "execution_count": 4,
   "id": "bcc7b015",
   "metadata": {},
   "outputs": [
    {
     "data": {
      "text/plain": [
       "20"
      ]
     },
     "execution_count": 4,
     "metadata": {},
     "output_type": "execute_result"
    }
   ],
   "source": [
    "data.duplicated().sum()"
   ]
  },
  {
   "cell_type": "code",
   "execution_count": 5,
   "id": "119941f4",
   "metadata": {},
   "outputs": [
    {
     "data": {
      "text/plain": [
       "0"
      ]
     },
     "execution_count": 5,
     "metadata": {},
     "output_type": "execute_result"
    }
   ],
   "source": [
    "data=data.drop_duplicates()\n",
    "data.duplicated().sum()"
   ]
  },
  {
   "cell_type": "code",
   "execution_count": 6,
   "id": "25242b83",
   "metadata": {},
   "outputs": [
    {
     "data": {
      "text/plain": [
       "(8228, 15)"
      ]
     },
     "execution_count": 6,
     "metadata": {},
     "output_type": "execute_result"
    }
   ],
   "source": [
    "data.shape"
   ]
  },
  {
   "cell_type": "code",
   "execution_count": 7,
   "id": "c81e03de",
   "metadata": {},
   "outputs": [
    {
     "data": {
      "text/html": [
       "<div>\n",
       "<style scoped>\n",
       "    .dataframe tbody tr th:only-of-type {\n",
       "        vertical-align: middle;\n",
       "    }\n",
       "\n",
       "    .dataframe tbody tr th {\n",
       "        vertical-align: top;\n",
       "    }\n",
       "\n",
       "    .dataframe thead th {\n",
       "        text-align: right;\n",
       "    }\n",
       "</style>\n",
       "<table border=\"1\" class=\"dataframe\">\n",
       "  <thead>\n",
       "    <tr style=\"text-align: right;\">\n",
       "      <th></th>\n",
       "      <th>Link</th>\n",
       "      <th>Make</th>\n",
       "      <th>Type</th>\n",
       "      <th>Year</th>\n",
       "      <th>Origin</th>\n",
       "      <th>Color</th>\n",
       "      <th>Options</th>\n",
       "      <th>Engine_Size</th>\n",
       "      <th>Fuel_Type</th>\n",
       "      <th>Gear_Type</th>\n",
       "      <th>Condition</th>\n",
       "      <th>Mileage</th>\n",
       "      <th>Region</th>\n",
       "      <th>Price</th>\n",
       "      <th>Negotiable</th>\n",
       "    </tr>\n",
       "  </thead>\n",
       "  <tbody>\n",
       "    <tr>\n",
       "      <th>count</th>\n",
       "      <td>8228</td>\n",
       "      <td>8228</td>\n",
       "      <td>8228</td>\n",
       "      <td>8228.000000</td>\n",
       "      <td>8133</td>\n",
       "      <td>8228</td>\n",
       "      <td>8119</td>\n",
       "      <td>5965.000000</td>\n",
       "      <td>8228</td>\n",
       "      <td>8154</td>\n",
       "      <td>8228</td>\n",
       "      <td>8.228000e+03</td>\n",
       "      <td>8228</td>\n",
       "      <td>8228</td>\n",
       "      <td>8228</td>\n",
       "    </tr>\n",
       "    <tr>\n",
       "      <th>unique</th>\n",
       "      <td>8228</td>\n",
       "      <td>65</td>\n",
       "      <td>435</td>\n",
       "      <td>NaN</td>\n",
       "      <td>3</td>\n",
       "      <td>15</td>\n",
       "      <td>3</td>\n",
       "      <td>NaN</td>\n",
       "      <td>3</td>\n",
       "      <td>2</td>\n",
       "      <td>1</td>\n",
       "      <td>NaN</td>\n",
       "      <td>27</td>\n",
       "      <td>549</td>\n",
       "      <td>2</td>\n",
       "    </tr>\n",
       "    <tr>\n",
       "      <th>top</th>\n",
       "      <td>https://syarah.com/%D9%83%D8%B1%D8%A7%D9%8A%D8...</td>\n",
       "      <td>Toyota</td>\n",
       "      <td>Land Cruiser</td>\n",
       "      <td>NaN</td>\n",
       "      <td>Saudi</td>\n",
       "      <td>White</td>\n",
       "      <td>Full</td>\n",
       "      <td>NaN</td>\n",
       "      <td>Gas</td>\n",
       "      <td>Automatic</td>\n",
       "      <td>Used</td>\n",
       "      <td>NaN</td>\n",
       "      <td>Riyadh</td>\n",
       "      <td>Negotiable</td>\n",
       "      <td>False</td>\n",
       "    </tr>\n",
       "    <tr>\n",
       "      <th>freq</th>\n",
       "      <td>1</td>\n",
       "      <td>2067</td>\n",
       "      <td>373</td>\n",
       "      <td>NaN</td>\n",
       "      <td>6071</td>\n",
       "      <td>3563</td>\n",
       "      <td>3231</td>\n",
       "      <td>NaN</td>\n",
       "      <td>8031</td>\n",
       "      <td>7050</td>\n",
       "      <td>8228</td>\n",
       "      <td>NaN</td>\n",
       "      <td>3300</td>\n",
       "      <td>2592</td>\n",
       "      <td>5636</td>\n",
       "    </tr>\n",
       "    <tr>\n",
       "      <th>mean</th>\n",
       "      <td>NaN</td>\n",
       "      <td>NaN</td>\n",
       "      <td>NaN</td>\n",
       "      <td>2014.012275</td>\n",
       "      <td>NaN</td>\n",
       "      <td>NaN</td>\n",
       "      <td>NaN</td>\n",
       "      <td>3.176932</td>\n",
       "      <td>NaN</td>\n",
       "      <td>NaN</td>\n",
       "      <td>NaN</td>\n",
       "      <td>1.496074e+05</td>\n",
       "      <td>NaN</td>\n",
       "      <td>NaN</td>\n",
       "      <td>NaN</td>\n",
       "    </tr>\n",
       "    <tr>\n",
       "      <th>std</th>\n",
       "      <td>NaN</td>\n",
       "      <td>NaN</td>\n",
       "      <td>NaN</td>\n",
       "      <td>5.933833</td>\n",
       "      <td>NaN</td>\n",
       "      <td>NaN</td>\n",
       "      <td>NaN</td>\n",
       "      <td>1.568393</td>\n",
       "      <td>NaN</td>\n",
       "      <td>NaN</td>\n",
       "      <td>NaN</td>\n",
       "      <td>3.459146e+05</td>\n",
       "      <td>NaN</td>\n",
       "      <td>NaN</td>\n",
       "      <td>NaN</td>\n",
       "    </tr>\n",
       "    <tr>\n",
       "      <th>min</th>\n",
       "      <td>NaN</td>\n",
       "      <td>NaN</td>\n",
       "      <td>NaN</td>\n",
       "      <td>1936.000000</td>\n",
       "      <td>NaN</td>\n",
       "      <td>NaN</td>\n",
       "      <td>NaN</td>\n",
       "      <td>1.000000</td>\n",
       "      <td>NaN</td>\n",
       "      <td>NaN</td>\n",
       "      <td>NaN</td>\n",
       "      <td>1.000000e+02</td>\n",
       "      <td>NaN</td>\n",
       "      <td>NaN</td>\n",
       "      <td>NaN</td>\n",
       "    </tr>\n",
       "    <tr>\n",
       "      <th>25%</th>\n",
       "      <td>NaN</td>\n",
       "      <td>NaN</td>\n",
       "      <td>NaN</td>\n",
       "      <td>2012.000000</td>\n",
       "      <td>NaN</td>\n",
       "      <td>NaN</td>\n",
       "      <td>NaN</td>\n",
       "      <td>2.000000</td>\n",
       "      <td>NaN</td>\n",
       "      <td>NaN</td>\n",
       "      <td>NaN</td>\n",
       "      <td>3.700000e+04</td>\n",
       "      <td>NaN</td>\n",
       "      <td>NaN</td>\n",
       "      <td>NaN</td>\n",
       "    </tr>\n",
       "    <tr>\n",
       "      <th>50%</th>\n",
       "      <td>NaN</td>\n",
       "      <td>NaN</td>\n",
       "      <td>NaN</td>\n",
       "      <td>2016.000000</td>\n",
       "      <td>NaN</td>\n",
       "      <td>NaN</td>\n",
       "      <td>NaN</td>\n",
       "      <td>2.700000</td>\n",
       "      <td>NaN</td>\n",
       "      <td>NaN</td>\n",
       "      <td>NaN</td>\n",
       "      <td>1.020000e+05</td>\n",
       "      <td>NaN</td>\n",
       "      <td>NaN</td>\n",
       "      <td>NaN</td>\n",
       "    </tr>\n",
       "    <tr>\n",
       "      <th>75%</th>\n",
       "      <td>NaN</td>\n",
       "      <td>NaN</td>\n",
       "      <td>NaN</td>\n",
       "      <td>2018.000000</td>\n",
       "      <td>NaN</td>\n",
       "      <td>NaN</td>\n",
       "      <td>NaN</td>\n",
       "      <td>4.000000</td>\n",
       "      <td>NaN</td>\n",
       "      <td>NaN</td>\n",
       "      <td>NaN</td>\n",
       "      <td>1.960000e+05</td>\n",
       "      <td>NaN</td>\n",
       "      <td>NaN</td>\n",
       "      <td>NaN</td>\n",
       "    </tr>\n",
       "    <tr>\n",
       "      <th>max</th>\n",
       "      <td>NaN</td>\n",
       "      <td>NaN</td>\n",
       "      <td>NaN</td>\n",
       "      <td>2022.000000</td>\n",
       "      <td>NaN</td>\n",
       "      <td>NaN</td>\n",
       "      <td>NaN</td>\n",
       "      <td>9.000000</td>\n",
       "      <td>NaN</td>\n",
       "      <td>NaN</td>\n",
       "      <td>NaN</td>\n",
       "      <td>2.000000e+07</td>\n",
       "      <td>NaN</td>\n",
       "      <td>NaN</td>\n",
       "      <td>NaN</td>\n",
       "    </tr>\n",
       "  </tbody>\n",
       "</table>\n",
       "</div>"
      ],
      "text/plain": [
       "                                                     Link    Make  \\\n",
       "count                                                8228    8228   \n",
       "unique                                               8228      65   \n",
       "top     https://syarah.com/%D9%83%D8%B1%D8%A7%D9%8A%D8...  Toyota   \n",
       "freq                                                    1    2067   \n",
       "mean                                                  NaN     NaN   \n",
       "std                                                   NaN     NaN   \n",
       "min                                                   NaN     NaN   \n",
       "25%                                                   NaN     NaN   \n",
       "50%                                                   NaN     NaN   \n",
       "75%                                                   NaN     NaN   \n",
       "max                                                   NaN     NaN   \n",
       "\n",
       "                Type         Year Origin  Color Options  Engine_Size  \\\n",
       "count           8228  8228.000000   8133   8228    8119  5965.000000   \n",
       "unique           435          NaN      3     15       3          NaN   \n",
       "top     Land Cruiser          NaN  Saudi  White    Full          NaN   \n",
       "freq             373          NaN   6071   3563    3231          NaN   \n",
       "mean             NaN  2014.012275    NaN    NaN     NaN     3.176932   \n",
       "std              NaN     5.933833    NaN    NaN     NaN     1.568393   \n",
       "min              NaN  1936.000000    NaN    NaN     NaN     1.000000   \n",
       "25%              NaN  2012.000000    NaN    NaN     NaN     2.000000   \n",
       "50%              NaN  2016.000000    NaN    NaN     NaN     2.700000   \n",
       "75%              NaN  2018.000000    NaN    NaN     NaN     4.000000   \n",
       "max              NaN  2022.000000    NaN    NaN     NaN     9.000000   \n",
       "\n",
       "       Fuel_Type  Gear_Type Condition       Mileage  Region       Price  \\\n",
       "count       8228       8154      8228  8.228000e+03    8228        8228   \n",
       "unique         3          2         1           NaN      27         549   \n",
       "top          Gas  Automatic      Used           NaN  Riyadh  Negotiable   \n",
       "freq        8031       7050      8228           NaN    3300        2592   \n",
       "mean         NaN        NaN       NaN  1.496074e+05     NaN         NaN   \n",
       "std          NaN        NaN       NaN  3.459146e+05     NaN         NaN   \n",
       "min          NaN        NaN       NaN  1.000000e+02     NaN         NaN   \n",
       "25%          NaN        NaN       NaN  3.700000e+04     NaN         NaN   \n",
       "50%          NaN        NaN       NaN  1.020000e+05     NaN         NaN   \n",
       "75%          NaN        NaN       NaN  1.960000e+05     NaN         NaN   \n",
       "max          NaN        NaN       NaN  2.000000e+07     NaN         NaN   \n",
       "\n",
       "       Negotiable  \n",
       "count        8228  \n",
       "unique          2  \n",
       "top         False  \n",
       "freq         5636  \n",
       "mean          NaN  \n",
       "std           NaN  \n",
       "min           NaN  \n",
       "25%           NaN  \n",
       "50%           NaN  \n",
       "75%           NaN  \n",
       "max           NaN  "
      ]
     },
     "execution_count": 7,
     "metadata": {},
     "output_type": "execute_result"
    }
   ],
   "source": [
    "data.describe(include='all')"
   ]
  },
  {
   "cell_type": "code",
   "execution_count": 8,
   "id": "e070cb3b",
   "metadata": {},
   "outputs": [
    {
     "data": {
      "text/html": [
       "<div>\n",
       "<style scoped>\n",
       "    .dataframe tbody tr th:only-of-type {\n",
       "        vertical-align: middle;\n",
       "    }\n",
       "\n",
       "    .dataframe tbody tr th {\n",
       "        vertical-align: top;\n",
       "    }\n",
       "\n",
       "    .dataframe thead th {\n",
       "        text-align: right;\n",
       "    }\n",
       "</style>\n",
       "<table border=\"1\" class=\"dataframe\">\n",
       "  <thead>\n",
       "    <tr style=\"text-align: right;\">\n",
       "      <th></th>\n",
       "      <th>Make</th>\n",
       "      <th>Type</th>\n",
       "      <th>Year</th>\n",
       "      <th>Origin</th>\n",
       "      <th>Color</th>\n",
       "      <th>Options</th>\n",
       "      <th>Engine_Size</th>\n",
       "      <th>Fuel_Type</th>\n",
       "      <th>Gear_Type</th>\n",
       "      <th>Condition</th>\n",
       "      <th>Mileage</th>\n",
       "      <th>Region</th>\n",
       "      <th>Price</th>\n",
       "      <th>Negotiable</th>\n",
       "    </tr>\n",
       "  </thead>\n",
       "  <tbody>\n",
       "    <tr>\n",
       "      <th>0</th>\n",
       "      <td>Chrysler</td>\n",
       "      <td>C300</td>\n",
       "      <td>2018</td>\n",
       "      <td>Saudi</td>\n",
       "      <td>Black</td>\n",
       "      <td>Full</td>\n",
       "      <td>5.7</td>\n",
       "      <td>Gas</td>\n",
       "      <td>Automatic</td>\n",
       "      <td>Used</td>\n",
       "      <td>103000</td>\n",
       "      <td>Riyadh</td>\n",
       "      <td>114000</td>\n",
       "      <td>False</td>\n",
       "    </tr>\n",
       "    <tr>\n",
       "      <th>1</th>\n",
       "      <td>Nissan</td>\n",
       "      <td>Patrol</td>\n",
       "      <td>2016</td>\n",
       "      <td>Saudi</td>\n",
       "      <td>White</td>\n",
       "      <td>Full</td>\n",
       "      <td>4.8</td>\n",
       "      <td>Gas</td>\n",
       "      <td>Automatic</td>\n",
       "      <td>Used</td>\n",
       "      <td>5448</td>\n",
       "      <td>Riyadh</td>\n",
       "      <td>Negotiable</td>\n",
       "      <td>True</td>\n",
       "    </tr>\n",
       "    <tr>\n",
       "      <th>2</th>\n",
       "      <td>Nissan</td>\n",
       "      <td>Sunny</td>\n",
       "      <td>2019</td>\n",
       "      <td>Saudi</td>\n",
       "      <td>Silver</td>\n",
       "      <td>Standard</td>\n",
       "      <td>1.5</td>\n",
       "      <td>Gas</td>\n",
       "      <td>Automatic</td>\n",
       "      <td>Used</td>\n",
       "      <td>72418</td>\n",
       "      <td>Riyadh</td>\n",
       "      <td>27500</td>\n",
       "      <td>False</td>\n",
       "    </tr>\n",
       "    <tr>\n",
       "      <th>3</th>\n",
       "      <td>Hyundai</td>\n",
       "      <td>Elantra</td>\n",
       "      <td>2019</td>\n",
       "      <td>Saudi</td>\n",
       "      <td>Grey</td>\n",
       "      <td>Standard</td>\n",
       "      <td>1.6</td>\n",
       "      <td>Gas</td>\n",
       "      <td>Automatic</td>\n",
       "      <td>Used</td>\n",
       "      <td>114154</td>\n",
       "      <td>Riyadh</td>\n",
       "      <td>43000</td>\n",
       "      <td>False</td>\n",
       "    </tr>\n",
       "    <tr>\n",
       "      <th>4</th>\n",
       "      <td>Hyundai</td>\n",
       "      <td>Elantra</td>\n",
       "      <td>2019</td>\n",
       "      <td>Saudi</td>\n",
       "      <td>Silver</td>\n",
       "      <td>Semi Full</td>\n",
       "      <td>2.0</td>\n",
       "      <td>Gas</td>\n",
       "      <td>Automatic</td>\n",
       "      <td>Used</td>\n",
       "      <td>41912</td>\n",
       "      <td>Riyadh</td>\n",
       "      <td>59500</td>\n",
       "      <td>False</td>\n",
       "    </tr>\n",
       "  </tbody>\n",
       "</table>\n",
       "</div>"
      ],
      "text/plain": [
       "       Make     Type  Year Origin   Color    Options  Engine_Size Fuel_Type  \\\n",
       "0  Chrysler     C300  2018  Saudi   Black       Full          5.7       Gas   \n",
       "1    Nissan   Patrol  2016  Saudi   White       Full          4.8       Gas   \n",
       "2    Nissan    Sunny  2019  Saudi  Silver   Standard          1.5       Gas   \n",
       "3   Hyundai  Elantra  2019  Saudi    Grey   Standard          1.6       Gas   \n",
       "4   Hyundai  Elantra  2019  Saudi  Silver  Semi Full          2.0       Gas   \n",
       "\n",
       "   Gear_Type Condition  Mileage  Region       Price  Negotiable  \n",
       "0  Automatic      Used   103000  Riyadh      114000       False  \n",
       "1  Automatic      Used     5448  Riyadh  Negotiable        True  \n",
       "2  Automatic      Used    72418  Riyadh       27500       False  \n",
       "3  Automatic      Used   114154  Riyadh       43000       False  \n",
       "4  Automatic      Used    41912  Riyadh       59500       False  "
      ]
     },
     "execution_count": 8,
     "metadata": {},
     "output_type": "execute_result"
    }
   ],
   "source": [
    "data=data.drop(['Link'],axis=1)\n",
    "data.head()"
   ]
  },
  {
   "cell_type": "code",
   "execution_count": 9,
   "id": "58ac91f8",
   "metadata": {},
   "outputs": [
    {
     "name": "stdout",
     "output_type": "stream",
     "text": [
      "<class 'pandas.core.frame.DataFrame'>\n",
      "Int64Index: 8228 entries, 0 to 8247\n",
      "Data columns (total 14 columns):\n",
      " #   Column       Non-Null Count  Dtype  \n",
      "---  ------       --------------  -----  \n",
      " 0   Make         8228 non-null   object \n",
      " 1   Type         8228 non-null   object \n",
      " 2   Year         8228 non-null   int64  \n",
      " 3   Origin       8133 non-null   object \n",
      " 4   Color        8228 non-null   object \n",
      " 5   Options      8119 non-null   object \n",
      " 6   Engine_Size  5965 non-null   float64\n",
      " 7   Fuel_Type    8228 non-null   object \n",
      " 8   Gear_Type    8154 non-null   object \n",
      " 9   Condition    8228 non-null   object \n",
      " 10  Mileage      8228 non-null   int64  \n",
      " 11  Region       8228 non-null   object \n",
      " 12  Price        8228 non-null   object \n",
      " 13  Negotiable   8228 non-null   bool   \n",
      "dtypes: bool(1), float64(1), int64(2), object(10)\n",
      "memory usage: 908.0+ KB\n"
     ]
    }
   ],
   "source": [
    "data.info()"
   ]
  },
  {
   "cell_type": "code",
   "execution_count": 10,
   "id": "50abcc62",
   "metadata": {},
   "outputs": [
    {
     "data": {
      "text/plain": [
       "Make              0\n",
       "Type              0\n",
       "Year              0\n",
       "Origin           95\n",
       "Color             0\n",
       "Options         109\n",
       "Engine_Size    2263\n",
       "Fuel_Type         0\n",
       "Gear_Type        74\n",
       "Condition         0\n",
       "Mileage           0\n",
       "Region            0\n",
       "Price             0\n",
       "Negotiable        0\n",
       "dtype: int64"
      ]
     },
     "execution_count": 10,
     "metadata": {},
     "output_type": "execute_result"
    }
   ],
   "source": [
    "data.isnull().sum()"
   ]
  },
  {
   "cell_type": "code",
   "execution_count": 11,
   "id": "acf28182",
   "metadata": {},
   "outputs": [
    {
     "data": {
      "text/plain": [
       "Make            0.000000\n",
       "Type            0.000000\n",
       "Year            0.000000\n",
       "Origin          1.154594\n",
       "Color           0.000000\n",
       "Options         1.324745\n",
       "Engine_Size    27.503646\n",
       "Fuel_Type       0.000000\n",
       "Gear_Type       0.899368\n",
       "Condition       0.000000\n",
       "Mileage         0.000000\n",
       "Region          0.000000\n",
       "Price           0.000000\n",
       "Negotiable      0.000000\n",
       "dtype: float64"
      ]
     },
     "execution_count": 11,
     "metadata": {},
     "output_type": "execute_result"
    }
   ],
   "source": [
    "data.isnull().sum()/len(data)*100"
   ]
  },
  {
   "cell_type": "code",
   "execution_count": 12,
   "id": "4ad0c2f4",
   "metadata": {},
   "outputs": [
    {
     "data": {
      "text/html": [
       "<div>\n",
       "<style scoped>\n",
       "    .dataframe tbody tr th:only-of-type {\n",
       "        vertical-align: middle;\n",
       "    }\n",
       "\n",
       "    .dataframe tbody tr th {\n",
       "        vertical-align: top;\n",
       "    }\n",
       "\n",
       "    .dataframe thead th {\n",
       "        text-align: right;\n",
       "    }\n",
       "</style>\n",
       "<table border=\"1\" class=\"dataframe\">\n",
       "  <thead>\n",
       "    <tr style=\"text-align: right;\">\n",
       "      <th></th>\n",
       "      <th>Make</th>\n",
       "      <th>Type</th>\n",
       "      <th>Year</th>\n",
       "      <th>Origin</th>\n",
       "      <th>Color</th>\n",
       "      <th>Options</th>\n",
       "      <th>Engine_Size</th>\n",
       "      <th>Fuel_Type</th>\n",
       "      <th>Gear_Type</th>\n",
       "      <th>Condition</th>\n",
       "      <th>Mileage</th>\n",
       "      <th>Region</th>\n",
       "      <th>Price</th>\n",
       "      <th>Negotiable</th>\n",
       "    </tr>\n",
       "  </thead>\n",
       "  <tbody>\n",
       "    <tr>\n",
       "      <th>count</th>\n",
       "      <td>8228</td>\n",
       "      <td>8228</td>\n",
       "      <td>8228.000000</td>\n",
       "      <td>8133</td>\n",
       "      <td>8228</td>\n",
       "      <td>8119</td>\n",
       "      <td>5965.000000</td>\n",
       "      <td>8228</td>\n",
       "      <td>8154</td>\n",
       "      <td>8228</td>\n",
       "      <td>8.228000e+03</td>\n",
       "      <td>8228</td>\n",
       "      <td>8228</td>\n",
       "      <td>8228</td>\n",
       "    </tr>\n",
       "    <tr>\n",
       "      <th>unique</th>\n",
       "      <td>65</td>\n",
       "      <td>435</td>\n",
       "      <td>NaN</td>\n",
       "      <td>3</td>\n",
       "      <td>15</td>\n",
       "      <td>3</td>\n",
       "      <td>NaN</td>\n",
       "      <td>3</td>\n",
       "      <td>2</td>\n",
       "      <td>1</td>\n",
       "      <td>NaN</td>\n",
       "      <td>27</td>\n",
       "      <td>549</td>\n",
       "      <td>2</td>\n",
       "    </tr>\n",
       "    <tr>\n",
       "      <th>top</th>\n",
       "      <td>Toyota</td>\n",
       "      <td>Land Cruiser</td>\n",
       "      <td>NaN</td>\n",
       "      <td>Saudi</td>\n",
       "      <td>White</td>\n",
       "      <td>Full</td>\n",
       "      <td>NaN</td>\n",
       "      <td>Gas</td>\n",
       "      <td>Automatic</td>\n",
       "      <td>Used</td>\n",
       "      <td>NaN</td>\n",
       "      <td>Riyadh</td>\n",
       "      <td>Negotiable</td>\n",
       "      <td>False</td>\n",
       "    </tr>\n",
       "    <tr>\n",
       "      <th>freq</th>\n",
       "      <td>2067</td>\n",
       "      <td>373</td>\n",
       "      <td>NaN</td>\n",
       "      <td>6071</td>\n",
       "      <td>3563</td>\n",
       "      <td>3231</td>\n",
       "      <td>NaN</td>\n",
       "      <td>8031</td>\n",
       "      <td>7050</td>\n",
       "      <td>8228</td>\n",
       "      <td>NaN</td>\n",
       "      <td>3300</td>\n",
       "      <td>2592</td>\n",
       "      <td>5636</td>\n",
       "    </tr>\n",
       "    <tr>\n",
       "      <th>mean</th>\n",
       "      <td>NaN</td>\n",
       "      <td>NaN</td>\n",
       "      <td>2014.012275</td>\n",
       "      <td>NaN</td>\n",
       "      <td>NaN</td>\n",
       "      <td>NaN</td>\n",
       "      <td>3.176932</td>\n",
       "      <td>NaN</td>\n",
       "      <td>NaN</td>\n",
       "      <td>NaN</td>\n",
       "      <td>1.496074e+05</td>\n",
       "      <td>NaN</td>\n",
       "      <td>NaN</td>\n",
       "      <td>NaN</td>\n",
       "    </tr>\n",
       "    <tr>\n",
       "      <th>std</th>\n",
       "      <td>NaN</td>\n",
       "      <td>NaN</td>\n",
       "      <td>5.933833</td>\n",
       "      <td>NaN</td>\n",
       "      <td>NaN</td>\n",
       "      <td>NaN</td>\n",
       "      <td>1.568393</td>\n",
       "      <td>NaN</td>\n",
       "      <td>NaN</td>\n",
       "      <td>NaN</td>\n",
       "      <td>3.459146e+05</td>\n",
       "      <td>NaN</td>\n",
       "      <td>NaN</td>\n",
       "      <td>NaN</td>\n",
       "    </tr>\n",
       "    <tr>\n",
       "      <th>min</th>\n",
       "      <td>NaN</td>\n",
       "      <td>NaN</td>\n",
       "      <td>1936.000000</td>\n",
       "      <td>NaN</td>\n",
       "      <td>NaN</td>\n",
       "      <td>NaN</td>\n",
       "      <td>1.000000</td>\n",
       "      <td>NaN</td>\n",
       "      <td>NaN</td>\n",
       "      <td>NaN</td>\n",
       "      <td>1.000000e+02</td>\n",
       "      <td>NaN</td>\n",
       "      <td>NaN</td>\n",
       "      <td>NaN</td>\n",
       "    </tr>\n",
       "    <tr>\n",
       "      <th>25%</th>\n",
       "      <td>NaN</td>\n",
       "      <td>NaN</td>\n",
       "      <td>2012.000000</td>\n",
       "      <td>NaN</td>\n",
       "      <td>NaN</td>\n",
       "      <td>NaN</td>\n",
       "      <td>2.000000</td>\n",
       "      <td>NaN</td>\n",
       "      <td>NaN</td>\n",
       "      <td>NaN</td>\n",
       "      <td>3.700000e+04</td>\n",
       "      <td>NaN</td>\n",
       "      <td>NaN</td>\n",
       "      <td>NaN</td>\n",
       "    </tr>\n",
       "    <tr>\n",
       "      <th>50%</th>\n",
       "      <td>NaN</td>\n",
       "      <td>NaN</td>\n",
       "      <td>2016.000000</td>\n",
       "      <td>NaN</td>\n",
       "      <td>NaN</td>\n",
       "      <td>NaN</td>\n",
       "      <td>2.700000</td>\n",
       "      <td>NaN</td>\n",
       "      <td>NaN</td>\n",
       "      <td>NaN</td>\n",
       "      <td>1.020000e+05</td>\n",
       "      <td>NaN</td>\n",
       "      <td>NaN</td>\n",
       "      <td>NaN</td>\n",
       "    </tr>\n",
       "    <tr>\n",
       "      <th>75%</th>\n",
       "      <td>NaN</td>\n",
       "      <td>NaN</td>\n",
       "      <td>2018.000000</td>\n",
       "      <td>NaN</td>\n",
       "      <td>NaN</td>\n",
       "      <td>NaN</td>\n",
       "      <td>4.000000</td>\n",
       "      <td>NaN</td>\n",
       "      <td>NaN</td>\n",
       "      <td>NaN</td>\n",
       "      <td>1.960000e+05</td>\n",
       "      <td>NaN</td>\n",
       "      <td>NaN</td>\n",
       "      <td>NaN</td>\n",
       "    </tr>\n",
       "    <tr>\n",
       "      <th>max</th>\n",
       "      <td>NaN</td>\n",
       "      <td>NaN</td>\n",
       "      <td>2022.000000</td>\n",
       "      <td>NaN</td>\n",
       "      <td>NaN</td>\n",
       "      <td>NaN</td>\n",
       "      <td>9.000000</td>\n",
       "      <td>NaN</td>\n",
       "      <td>NaN</td>\n",
       "      <td>NaN</td>\n",
       "      <td>2.000000e+07</td>\n",
       "      <td>NaN</td>\n",
       "      <td>NaN</td>\n",
       "      <td>NaN</td>\n",
       "    </tr>\n",
       "  </tbody>\n",
       "</table>\n",
       "</div>"
      ],
      "text/plain": [
       "          Make          Type         Year Origin  Color Options  Engine_Size  \\\n",
       "count     8228          8228  8228.000000   8133   8228    8119  5965.000000   \n",
       "unique      65           435          NaN      3     15       3          NaN   \n",
       "top     Toyota  Land Cruiser          NaN  Saudi  White    Full          NaN   \n",
       "freq      2067           373          NaN   6071   3563    3231          NaN   \n",
       "mean       NaN           NaN  2014.012275    NaN    NaN     NaN     3.176932   \n",
       "std        NaN           NaN     5.933833    NaN    NaN     NaN     1.568393   \n",
       "min        NaN           NaN  1936.000000    NaN    NaN     NaN     1.000000   \n",
       "25%        NaN           NaN  2012.000000    NaN    NaN     NaN     2.000000   \n",
       "50%        NaN           NaN  2016.000000    NaN    NaN     NaN     2.700000   \n",
       "75%        NaN           NaN  2018.000000    NaN    NaN     NaN     4.000000   \n",
       "max        NaN           NaN  2022.000000    NaN    NaN     NaN     9.000000   \n",
       "\n",
       "       Fuel_Type  Gear_Type Condition       Mileage  Region       Price  \\\n",
       "count       8228       8154      8228  8.228000e+03    8228        8228   \n",
       "unique         3          2         1           NaN      27         549   \n",
       "top          Gas  Automatic      Used           NaN  Riyadh  Negotiable   \n",
       "freq        8031       7050      8228           NaN    3300        2592   \n",
       "mean         NaN        NaN       NaN  1.496074e+05     NaN         NaN   \n",
       "std          NaN        NaN       NaN  3.459146e+05     NaN         NaN   \n",
       "min          NaN        NaN       NaN  1.000000e+02     NaN         NaN   \n",
       "25%          NaN        NaN       NaN  3.700000e+04     NaN         NaN   \n",
       "50%          NaN        NaN       NaN  1.020000e+05     NaN         NaN   \n",
       "75%          NaN        NaN       NaN  1.960000e+05     NaN         NaN   \n",
       "max          NaN        NaN       NaN  2.000000e+07     NaN         NaN   \n",
       "\n",
       "       Negotiable  \n",
       "count        8228  \n",
       "unique          2  \n",
       "top         False  \n",
       "freq         5636  \n",
       "mean          NaN  \n",
       "std           NaN  \n",
       "min           NaN  \n",
       "25%           NaN  \n",
       "50%           NaN  \n",
       "75%           NaN  \n",
       "max           NaN  "
      ]
     },
     "execution_count": 12,
     "metadata": {},
     "output_type": "execute_result"
    }
   ],
   "source": [
    "data.describe(include='all')"
   ]
  },
  {
   "cell_type": "code",
   "execution_count": 13,
   "id": "2da09898",
   "metadata": {},
   "outputs": [
    {
     "data": {
      "text/plain": [
       "2016    1212\n",
       "2015     830\n",
       "2017     817\n",
       "2018     775\n",
       "2019     641\n",
       "Name: Year, dtype: int64"
      ]
     },
     "execution_count": 13,
     "metadata": {},
     "output_type": "execute_result"
    }
   ],
   "source": [
    "data['Year'].value_counts().head()"
   ]
  },
  {
   "cell_type": "code",
   "execution_count": 14,
   "id": "e36c36cd",
   "metadata": {},
   "outputs": [
    {
     "data": {
      "image/png": "[encoded data removed]",
      "text/plain": [
       "<Figure size 640x480 with 1 Axes>"
      ]
     },
     "metadata": {},
     "output_type": "display_data"
    }
   ],
   "source": [
    "data['Year'].plot(kind='box')\n",
    "plt.show()"
   ]
  },
  {
   "cell_type": "code",
   "execution_count": 15,
   "id": "23393a9a",
   "metadata": {},
   "outputs": [],
   "source": [
    "q5=np.percentile(data['Year'],5)\n",
    "q25=np.percentile(data['Year'],25)\n",
    "q75=np.percentile(data['Year'],75)\n",
    "q95=np.percentile(data['Year'],95)\n",
    "IQR=q75-q25\n",
    "lower_limit=q25-1.5*IQR\n",
    "upper_limit=q75+1.5*IQR\n",
    "data['Year']=np.where(data['Year']<lower_limit,q5,(np.where(data['Year']>upper_limit,q95,data['Year'])))"
   ]
  },
  {
   "cell_type": "code",
   "execution_count": 16,
   "id": "a047bea6",
   "metadata": {},
   "outputs": [
    {
     "data": {
      "image/png": "[encoded data removed]",
      "text/plain": [
       "<Figure size 640x480 with 1 Axes>"
      ]
     },
     "metadata": {},
     "output_type": "display_data"
    }
   ],
   "source": [
    "data['Year'].plot(kind='box')\n",
    "plt.show()"
   ]
  },
  {
   "cell_type": "code",
   "execution_count": 17,
   "id": "0bb1cec8",
   "metadata": {
    "scrolled": true
   },
   "outputs": [
    {
     "data": {
      "text/plain": [
       "Negotiable    2592\n",
       "45000          141\n",
       "35000          127\n",
       "55000          127\n",
       "30000          120\n",
       "              ... \n",
       "345000           1\n",
       "428000           1\n",
       "169500           1\n",
       "1000             1\n",
       "1                1\n",
       "Name: Price, Length: 549, dtype: int64"
      ]
     },
     "execution_count": 17,
     "metadata": {},
     "output_type": "execute_result"
    }
   ],
   "source": [
    "data['Price'].value_counts()"
   ]
  },
  {
   "cell_type": "code",
   "execution_count": 18,
   "id": "407fd8e5",
   "metadata": {},
   "outputs": [],
   "source": [
    "data['Price']=pd.to_numeric(data['Price'],errors='coerce')"
   ]
  },
  {
   "cell_type": "code",
   "execution_count": 19,
   "id": "9b16cc5b",
   "metadata": {
    "scrolled": true
   },
   "outputs": [
    {
     "data": {
      "text/plain": [
       "2592"
      ]
     },
     "execution_count": 19,
     "metadata": {},
     "output_type": "execute_result"
    }
   ],
   "source": [
    "data['Price'].isnull().sum()"
   ]
  },
  {
   "cell_type": "code",
   "execution_count": 20,
   "id": "34fc8ee7",
   "metadata": {},
   "outputs": [
    {
     "data": {
      "image/png": "[encoded data removed]",
      "text/plain": [
       "<Figure size 640x480 with 1 Axes>"
      ]
     },
     "metadata": {},
     "output_type": "display_data"
    }
   ],
   "source": [
    "data['Price'].plot(kind='box')\n",
    "plt.show()"
   ]
  },
  {
   "cell_type": "code",
   "execution_count": 21,
   "id": "0ecb2695",
   "metadata": {},
   "outputs": [],
   "source": [
    "data['Price']=data['Price'].fillna(data['Price'].median())"
   ]
  },
  {
   "cell_type": "code",
   "execution_count": 22,
   "id": "c82131c4",
   "metadata": {},
   "outputs": [
    {
     "name": "stdout",
     "output_type": "stream",
     "text": [
      "Before drop: (8228, 14)\n",
      "After drop: (8226, 14)\n"
     ]
    }
   ],
   "source": [
    "print('Before drop:',data.shape)\n",
    "data.drop(data[data['Price']<=1].index,axis=0,inplace=True)\n",
    "print('After drop:',data.shape)"
   ]
  },
  {
   "cell_type": "code",
   "execution_count": 23,
   "id": "23b7c9f0",
   "metadata": {},
   "outputs": [
    {
     "data": {
      "text/plain": [
       "58000.0     2652\n",
       "45000.0      141\n",
       "55000.0      127\n",
       "35000.0      127\n",
       "30000.0      120\n",
       "            ... \n",
       "498000.0       1\n",
       "345000.0       1\n",
       "428000.0       1\n",
       "169500.0       1\n",
       "2122.0         1\n",
       "Name: Price, Length: 546, dtype: int64"
      ]
     },
     "execution_count": 23,
     "metadata": {},
     "output_type": "execute_result"
    }
   ],
   "source": [
    "data['Price'].value_counts()"
   ]
  },
  {
   "cell_type": "code",
   "execution_count": 24,
   "id": "fdf1f251",
   "metadata": {},
   "outputs": [
    {
     "name": "stdout",
     "output_type": "stream",
     "text": [
      "<class 'pandas.core.frame.DataFrame'>\n",
      "Int64Index: 8226 entries, 0 to 8247\n",
      "Data columns (total 14 columns):\n",
      " #   Column       Non-Null Count  Dtype  \n",
      "---  ------       --------------  -----  \n",
      " 0   Make         8226 non-null   object \n",
      " 1   Type         8226 non-null   object \n",
      " 2   Year         8226 non-null   float64\n",
      " 3   Origin       8131 non-null   object \n",
      " 4   Color        8226 non-null   object \n",
      " 5   Options      8117 non-null   object \n",
      " 6   Engine_Size  5964 non-null   float64\n",
      " 7   Fuel_Type    8226 non-null   object \n",
      " 8   Gear_Type    8152 non-null   object \n",
      " 9   Condition    8226 non-null   object \n",
      " 10  Mileage      8226 non-null   int64  \n",
      " 11  Region       8226 non-null   object \n",
      " 12  Price        8226 non-null   float64\n",
      " 13  Negotiable   8226 non-null   bool   \n",
      "dtypes: bool(1), float64(3), int64(1), object(9)\n",
      "memory usage: 907.8+ KB\n"
     ]
    }
   ],
   "source": [
    "data.info()"
   ]
  },
  {
   "cell_type": "code",
   "execution_count": 25,
   "id": "e91a2abf",
   "metadata": {
    "scrolled": true
   },
   "outputs": [
    {
     "data": {
      "text/plain": [
       "Riyadh       3299\n",
       "Dammam       1404\n",
       "Jeddah       1075\n",
       "Qassim        316\n",
       "Al-Medina     304\n",
       "Name: Region, dtype: int64"
      ]
     },
     "execution_count": 25,
     "metadata": {},
     "output_type": "execute_result"
    }
   ],
   "source": [
    "data['Region'].value_counts().head()"
   ]
  },
  {
   "cell_type": "code",
   "execution_count": 26,
   "id": "9e53ea80",
   "metadata": {
    "scrolled": true
   },
   "outputs": [
    {
     "data": {
      "text/plain": [
       "300000    125\n",
       "200000     96\n",
       "300        68\n",
       "100000     67\n",
       "90000      51\n",
       "Name: Mileage, dtype: int64"
      ]
     },
     "execution_count": 26,
     "metadata": {},
     "output_type": "execute_result"
    }
   ],
   "source": [
    "data['Mileage'].value_counts().head()"
   ]
  },
  {
   "cell_type": "code",
   "execution_count": 27,
   "id": "4335b0b4",
   "metadata": {},
   "outputs": [],
   "source": [
    "data.rename(columns={'Mileage':'Km_run'},inplace=True)\n",
    "data.rename(columns={'Type':'Model'},inplace=True)"
   ]
  },
  {
   "cell_type": "code",
   "execution_count": 28,
   "id": "e45c0296",
   "metadata": {
    "scrolled": true
   },
   "outputs": [
    {
     "data": {
      "text/html": [
       "<div>\n",
       "<style scoped>\n",
       "    .dataframe tbody tr th:only-of-type {\n",
       "        vertical-align: middle;\n",
       "    }\n",
       "\n",
       "    .dataframe tbody tr th {\n",
       "        vertical-align: top;\n",
       "    }\n",
       "\n",
       "    .dataframe thead th {\n",
       "        text-align: right;\n",
       "    }\n",
       "</style>\n",
       "<table border=\"1\" class=\"dataframe\">\n",
       "  <thead>\n",
       "    <tr style=\"text-align: right;\">\n",
       "      <th></th>\n",
       "      <th>Make</th>\n",
       "      <th>Model</th>\n",
       "      <th>Year</th>\n",
       "      <th>Origin</th>\n",
       "      <th>Color</th>\n",
       "      <th>Options</th>\n",
       "      <th>Engine_Size</th>\n",
       "      <th>Fuel_Type</th>\n",
       "      <th>Gear_Type</th>\n",
       "      <th>Condition</th>\n",
       "      <th>Km_run</th>\n",
       "      <th>Region</th>\n",
       "      <th>Price</th>\n",
       "      <th>Negotiable</th>\n",
       "    </tr>\n",
       "  </thead>\n",
       "  <tbody>\n",
       "    <tr>\n",
       "      <th>0</th>\n",
       "      <td>Chrysler</td>\n",
       "      <td>C300</td>\n",
       "      <td>2018.0</td>\n",
       "      <td>Saudi</td>\n",
       "      <td>Black</td>\n",
       "      <td>Full</td>\n",
       "      <td>5.7</td>\n",
       "      <td>Gas</td>\n",
       "      <td>Automatic</td>\n",
       "      <td>Used</td>\n",
       "      <td>103000</td>\n",
       "      <td>Riyadh</td>\n",
       "      <td>114000.0</td>\n",
       "      <td>False</td>\n",
       "    </tr>\n",
       "    <tr>\n",
       "      <th>1</th>\n",
       "      <td>Nissan</td>\n",
       "      <td>Patrol</td>\n",
       "      <td>2016.0</td>\n",
       "      <td>Saudi</td>\n",
       "      <td>White</td>\n",
       "      <td>Full</td>\n",
       "      <td>4.8</td>\n",
       "      <td>Gas</td>\n",
       "      <td>Automatic</td>\n",
       "      <td>Used</td>\n",
       "      <td>5448</td>\n",
       "      <td>Riyadh</td>\n",
       "      <td>58000.0</td>\n",
       "      <td>True</td>\n",
       "    </tr>\n",
       "    <tr>\n",
       "      <th>2</th>\n",
       "      <td>Nissan</td>\n",
       "      <td>Sunny</td>\n",
       "      <td>2019.0</td>\n",
       "      <td>Saudi</td>\n",
       "      <td>Silver</td>\n",
       "      <td>Standard</td>\n",
       "      <td>1.5</td>\n",
       "      <td>Gas</td>\n",
       "      <td>Automatic</td>\n",
       "      <td>Used</td>\n",
       "      <td>72418</td>\n",
       "      <td>Riyadh</td>\n",
       "      <td>27500.0</td>\n",
       "      <td>False</td>\n",
       "    </tr>\n",
       "    <tr>\n",
       "      <th>3</th>\n",
       "      <td>Hyundai</td>\n",
       "      <td>Elantra</td>\n",
       "      <td>2019.0</td>\n",
       "      <td>Saudi</td>\n",
       "      <td>Grey</td>\n",
       "      <td>Standard</td>\n",
       "      <td>1.6</td>\n",
       "      <td>Gas</td>\n",
       "      <td>Automatic</td>\n",
       "      <td>Used</td>\n",
       "      <td>114154</td>\n",
       "      <td>Riyadh</td>\n",
       "      <td>43000.0</td>\n",
       "      <td>False</td>\n",
       "    </tr>\n",
       "    <tr>\n",
       "      <th>4</th>\n",
       "      <td>Hyundai</td>\n",
       "      <td>Elantra</td>\n",
       "      <td>2019.0</td>\n",
       "      <td>Saudi</td>\n",
       "      <td>Silver</td>\n",
       "      <td>Semi Full</td>\n",
       "      <td>2.0</td>\n",
       "      <td>Gas</td>\n",
       "      <td>Automatic</td>\n",
       "      <td>Used</td>\n",
       "      <td>41912</td>\n",
       "      <td>Riyadh</td>\n",
       "      <td>59500.0</td>\n",
       "      <td>False</td>\n",
       "    </tr>\n",
       "  </tbody>\n",
       "</table>\n",
       "</div>"
      ],
      "text/plain": [
       "       Make    Model    Year Origin   Color    Options  Engine_Size Fuel_Type  \\\n",
       "0  Chrysler     C300  2018.0  Saudi   Black       Full          5.7       Gas   \n",
       "1    Nissan   Patrol  2016.0  Saudi   White       Full          4.8       Gas   \n",
       "2    Nissan    Sunny  2019.0  Saudi  Silver   Standard          1.5       Gas   \n",
       "3   Hyundai  Elantra  2019.0  Saudi    Grey   Standard          1.6       Gas   \n",
       "4   Hyundai  Elantra  2019.0  Saudi  Silver  Semi Full          2.0       Gas   \n",
       "\n",
       "   Gear_Type Condition  Km_run  Region     Price  Negotiable  \n",
       "0  Automatic      Used  103000  Riyadh  114000.0       False  \n",
       "1  Automatic      Used    5448  Riyadh   58000.0        True  \n",
       "2  Automatic      Used   72418  Riyadh   27500.0       False  \n",
       "3  Automatic      Used  114154  Riyadh   43000.0       False  \n",
       "4  Automatic      Used   41912  Riyadh   59500.0       False  "
      ]
     },
     "execution_count": 28,
     "metadata": {},
     "output_type": "execute_result"
    }
   ],
   "source": [
    "data.head()"
   ]
  },
  {
   "cell_type": "code",
   "execution_count": 29,
   "id": "78a0a6da",
   "metadata": {},
   "outputs": [
    {
     "data": {
      "image/png": "[encoded data removed]",
      "text/plain": [
       "<Figure size 640x480 with 1 Axes>"
      ]
     },
     "metadata": {},
     "output_type": "display_data"
    }
   ],
   "source": [
    "data['Km_run'].plot(kind='box')\n",
    "plt.show()"
   ]
  },
  {
   "cell_type": "code",
   "execution_count": 30,
   "id": "058ba6e3",
   "metadata": {},
   "outputs": [],
   "source": [
    "q5=np.percentile(data['Km_run'],5)\n",
    "q25=np.percentile(data['Km_run'],25)\n",
    "q75=np.percentile(data['Km_run'],75)\n",
    "q95=np.percentile(data['Km_run'],95)\n",
    "IQR=q75-q25\n",
    "lower_limit=q25-1.5*IQR\n",
    "upper_limit=q75+1.5*IQR\n",
    "data['Km_run']=np.where(data['Km_run']<lower_limit,q5,(np.where(data['Km_run']>upper_limit,q95,data['Km_run'])))"
   ]
  },
  {
   "cell_type": "code",
   "execution_count": 31,
   "id": "14108d36",
   "metadata": {},
   "outputs": [
    {
     "data": {
      "image/png": "[encoded data removed]",
      "text/plain": [
       "<Figure size 640x480 with 1 Axes>"
      ]
     },
     "metadata": {},
     "output_type": "display_data"
    }
   ],
   "source": [
    "data['Km_run'].plot(kind='box')\n",
    "plt.show()"
   ]
  },
  {
   "cell_type": "code",
   "execution_count": 32,
   "id": "4bdd7ee7",
   "metadata": {
    "scrolled": true
   },
   "outputs": [
    {
     "data": {
      "text/plain": [
       "Automatic    7048\n",
       "Manual       1104\n",
       "Name: Gear_Type, dtype: int64"
      ]
     },
     "execution_count": 32,
     "metadata": {},
     "output_type": "execute_result"
    }
   ],
   "source": [
    "data['Gear_Type'].value_counts()"
   ]
  },
  {
   "cell_type": "code",
   "execution_count": 33,
   "id": "dc62f61c",
   "metadata": {},
   "outputs": [
    {
     "data": {
      "text/plain": [
       "74"
      ]
     },
     "execution_count": 33,
     "metadata": {},
     "output_type": "execute_result"
    }
   ],
   "source": [
    "data['Gear_Type'].isnull().sum()"
   ]
  },
  {
   "cell_type": "code",
   "execution_count": 34,
   "id": "16e1a6a9",
   "metadata": {},
   "outputs": [
    {
     "data": {
      "text/plain": [
       "0    Automatic\n",
       "Name: Gear_Type, dtype: object"
      ]
     },
     "execution_count": 34,
     "metadata": {},
     "output_type": "execute_result"
    }
   ],
   "source": [
    "data['Gear_Type'].mode()"
   ]
  },
  {
   "cell_type": "code",
   "execution_count": 35,
   "id": "85535f75",
   "metadata": {},
   "outputs": [],
   "source": [
    "data['Gear_Type']=data['Gear_Type'].fillna(data['Gear_Type'].mode()[0])"
   ]
  },
  {
   "cell_type": "code",
   "execution_count": 36,
   "id": "d3f37cf3",
   "metadata": {},
   "outputs": [
    {
     "data": {
      "text/plain": [
       "0"
      ]
     },
     "execution_count": 36,
     "metadata": {},
     "output_type": "execute_result"
    }
   ],
   "source": [
    "data['Gear_Type'].isnull().sum()"
   ]
  },
  {
   "cell_type": "code",
   "execution_count": 37,
   "id": "5ec136dc",
   "metadata": {
    "scrolled": true
   },
   "outputs": [
    {
     "data": {
      "text/plain": [
       "Gas       8029\n",
       "Diesel     173\n",
       "Hybrid      24\n",
       "Name: Fuel_Type, dtype: int64"
      ]
     },
     "execution_count": 37,
     "metadata": {},
     "output_type": "execute_result"
    }
   ],
   "source": [
    "data['Fuel_Type'].value_counts()"
   ]
  },
  {
   "cell_type": "code",
   "execution_count": 38,
   "id": "7b0f3349",
   "metadata": {},
   "outputs": [
    {
     "data": {
      "text/plain": [
       "Full         3230\n",
       "Standard     2642\n",
       "Semi Full    2245\n",
       "Name: Options, dtype: int64"
      ]
     },
     "execution_count": 38,
     "metadata": {},
     "output_type": "execute_result"
    }
   ],
   "source": [
    "data['Options'].value_counts()"
   ]
  },
  {
   "cell_type": "code",
   "execution_count": 39,
   "id": "95053391",
   "metadata": {
    "scrolled": false
   },
   "outputs": [
    {
     "data": {
      "text/plain": [
       "109"
      ]
     },
     "execution_count": 39,
     "metadata": {},
     "output_type": "execute_result"
    }
   ],
   "source": [
    "data['Options'].isnull().sum()"
   ]
  },
  {
   "cell_type": "code",
   "execution_count": 40,
   "id": "8936653b",
   "metadata": {},
   "outputs": [
    {
     "data": {
      "text/plain": [
       "0    Full\n",
       "Name: Options, dtype: object"
      ]
     },
     "execution_count": 40,
     "metadata": {},
     "output_type": "execute_result"
    }
   ],
   "source": [
    "data['Options'].mode()"
   ]
  },
  {
   "cell_type": "code",
   "execution_count": 41,
   "id": "347495c2",
   "metadata": {},
   "outputs": [],
   "source": [
    "data['Options']=data['Options'].fillna(data['Options'].mode()[0])"
   ]
  },
  {
   "cell_type": "code",
   "execution_count": 42,
   "id": "36903246",
   "metadata": {},
   "outputs": [
    {
     "data": {
      "text/plain": [
       "Full         3339\n",
       "Standard     2642\n",
       "Semi Full    2245\n",
       "Name: Options, dtype: int64"
      ]
     },
     "execution_count": 42,
     "metadata": {},
     "output_type": "execute_result"
    }
   ],
   "source": [
    "data['Options'].value_counts()"
   ]
  },
  {
   "cell_type": "code",
   "execution_count": 43,
   "id": "eac59fb0",
   "metadata": {
    "scrolled": false
   },
   "outputs": [
    {
     "data": {
      "text/plain": [
       "White            3562\n",
       "Black             962\n",
       "Silver            907\n",
       "Grey              730\n",
       "Another Color     545\n",
       "Name: Color, dtype: int64"
      ]
     },
     "execution_count": 43,
     "metadata": {},
     "output_type": "execute_result"
    }
   ],
   "source": [
    "data['Color'].value_counts().head()"
   ]
  },
  {
   "cell_type": "code",
   "execution_count": 44,
   "id": "730674af",
   "metadata": {},
   "outputs": [
    {
     "data": {
      "text/plain": [
       "15"
      ]
     },
     "execution_count": 44,
     "metadata": {},
     "output_type": "execute_result"
    }
   ],
   "source": [
    "data['Color'].nunique()"
   ]
  },
  {
   "cell_type": "code",
   "execution_count": 45,
   "id": "61bfaf87",
   "metadata": {
    "scrolled": false
   },
   "outputs": [
    {
     "data": {
      "text/plain": [
       "array(['Chrysler', 'Nissan', 'Hyundai', 'Honda', 'Toyota', 'GMC',\n",
       "       'Chevrolet', 'Mercedes', 'MINI', 'Lexus', 'Land Rover', 'Mazda',\n",
       "       'Ford', 'Kia', 'Genesis', 'Cadillac', 'Geely', 'MG', 'Jeep',\n",
       "       'INFINITI', 'Dodge', 'Ferrari', 'Great Wall', 'Jaguar', 'GAC',\n",
       "       'Renault', 'Suzuki', 'Peugeot', 'Changan', 'HAVAL', 'BMW',\n",
       "       'Rolls-Royce', 'Porsche', 'Mitsubishi', 'Isuzu', 'Subaru',\n",
       "       'Zhengzhou', 'Audi', 'Lincoln', 'Volkswagen', 'Daihatsu', 'Fiat',\n",
       "       'Bentley', 'FAW', 'Chery', 'Aston Martin', 'Pontiac', 'Mercury',\n",
       "       'BYD', 'Classic', 'SsangYong', 'Hummer', 'Other', 'Maserati',\n",
       "       'Lifan', 'Foton', 'Tata', 'Victory Auto', 'Škoda', 'JAC', 'Iveco',\n",
       "       'Volvo', 'Ashok', 'MAN', 'Buick'], dtype=object)"
      ]
     },
     "execution_count": 45,
     "metadata": {},
     "output_type": "execute_result"
    }
   ],
   "source": [
    "data['Make'].unique()"
   ]
  },
  {
   "cell_type": "code",
   "execution_count": 46,
   "id": "30ac3672",
   "metadata": {},
   "outputs": [
    {
     "data": {
      "text/plain": [
       "65"
      ]
     },
     "execution_count": 46,
     "metadata": {},
     "output_type": "execute_result"
    }
   ],
   "source": [
    "data['Make'].nunique()"
   ]
  },
  {
   "cell_type": "code",
   "execution_count": 47,
   "id": "dba9ae61",
   "metadata": {},
   "outputs": [
    {
     "data": {
      "text/plain": [
       "Toyota       2066\n",
       "Hyundai       950\n",
       "Ford          778\n",
       "Chevrolet     667\n",
       "Nissan        552\n",
       "Name: Make, dtype: int64"
      ]
     },
     "execution_count": 47,
     "metadata": {},
     "output_type": "execute_result"
    }
   ],
   "source": [
    "data['Make'].value_counts().head()"
   ]
  },
  {
   "cell_type": "code",
   "execution_count": 48,
   "id": "2a7a3d2d",
   "metadata": {},
   "outputs": [
    {
     "data": {
      "text/plain": [
       "Land Cruiser    373\n",
       "Camry           329\n",
       "Hilux           292\n",
       "Accent          253\n",
       "Yukon           230\n",
       "Name: Model, dtype: int64"
      ]
     },
     "execution_count": 48,
     "metadata": {},
     "output_type": "execute_result"
    }
   ],
   "source": [
    "data['Model'].value_counts().head()"
   ]
  },
  {
   "cell_type": "code",
   "execution_count": 49,
   "id": "57313938",
   "metadata": {
    "scrolled": true
   },
   "outputs": [
    {
     "data": {
      "text/plain": [
       "Saudi          6070\n",
       "Other          1043\n",
       "Gulf Arabic    1018\n",
       "Name: Origin, dtype: int64"
      ]
     },
     "execution_count": 49,
     "metadata": {},
     "output_type": "execute_result"
    }
   ],
   "source": [
    "data['Origin'].value_counts()"
   ]
  },
  {
   "cell_type": "code",
   "execution_count": 50,
   "id": "fe4c30d0",
   "metadata": {},
   "outputs": [
    {
     "data": {
      "text/plain": [
       "95"
      ]
     },
     "execution_count": 50,
     "metadata": {},
     "output_type": "execute_result"
    }
   ],
   "source": [
    "data['Origin'].isnull().sum()"
   ]
  },
  {
   "cell_type": "code",
   "execution_count": 51,
   "id": "1c2e99af",
   "metadata": {},
   "outputs": [
    {
     "data": {
      "text/plain": [
       "0    Saudi\n",
       "Name: Origin, dtype: object"
      ]
     },
     "execution_count": 51,
     "metadata": {},
     "output_type": "execute_result"
    }
   ],
   "source": [
    "data['Origin'].mode()"
   ]
  },
  {
   "cell_type": "code",
   "execution_count": 52,
   "id": "984e055c",
   "metadata": {},
   "outputs": [],
   "source": [
    "data['Origin']=data['Origin'].fillna(data['Origin'].mode()[0])"
   ]
  },
  {
   "cell_type": "code",
   "execution_count": 53,
   "id": "3ae99d11",
   "metadata": {},
   "outputs": [
    {
     "data": {
      "text/plain": [
       "0"
      ]
     },
     "execution_count": 53,
     "metadata": {},
     "output_type": "execute_result"
    }
   ],
   "source": [
    "data['Origin'].isnull().sum()"
   ]
  },
  {
   "cell_type": "code",
   "execution_count": 54,
   "id": "29b781ca",
   "metadata": {},
   "outputs": [],
   "source": [
    "data['Negotiable']=data['Negotiable'].astype(str)"
   ]
  },
  {
   "cell_type": "code",
   "execution_count": 55,
   "id": "ffea42d4",
   "metadata": {},
   "outputs": [
    {
     "name": "stdout",
     "output_type": "stream",
     "text": [
      "<class 'pandas.core.frame.DataFrame'>\n",
      "Int64Index: 8226 entries, 0 to 8247\n",
      "Data columns (total 14 columns):\n",
      " #   Column       Non-Null Count  Dtype  \n",
      "---  ------       --------------  -----  \n",
      " 0   Make         8226 non-null   object \n",
      " 1   Model        8226 non-null   object \n",
      " 2   Year         8226 non-null   float64\n",
      " 3   Origin       8226 non-null   object \n",
      " 4   Color        8226 non-null   object \n",
      " 5   Options      8226 non-null   object \n",
      " 6   Engine_Size  5964 non-null   float64\n",
      " 7   Fuel_Type    8226 non-null   object \n",
      " 8   Gear_Type    8226 non-null   object \n",
      " 9   Condition    8226 non-null   object \n",
      " 10  Km_run       8226 non-null   float64\n",
      " 11  Region       8226 non-null   object \n",
      " 12  Price        8226 non-null   float64\n",
      " 13  Negotiable   8226 non-null   object \n",
      "dtypes: float64(4), object(10)\n",
      "memory usage: 964.0+ KB\n"
     ]
    }
   ],
   "source": [
    "data.info()"
   ]
  },
  {
   "cell_type": "code",
   "execution_count": 56,
   "id": "cd78aa6e",
   "metadata": {},
   "outputs": [
    {
     "data": {
      "text/html": [
       "<div>\n",
       "<style scoped>\n",
       "    .dataframe tbody tr th:only-of-type {\n",
       "        vertical-align: middle;\n",
       "    }\n",
       "\n",
       "    .dataframe tbody tr th {\n",
       "        vertical-align: top;\n",
       "    }\n",
       "\n",
       "    .dataframe thead th {\n",
       "        text-align: right;\n",
       "    }\n",
       "</style>\n",
       "<table border=\"1\" class=\"dataframe\">\n",
       "  <thead>\n",
       "    <tr style=\"text-align: right;\">\n",
       "      <th></th>\n",
       "      <th>Make</th>\n",
       "      <th>Model</th>\n",
       "      <th>Year</th>\n",
       "      <th>Origin</th>\n",
       "      <th>Color</th>\n",
       "      <th>Options</th>\n",
       "      <th>Engine_Size</th>\n",
       "      <th>Fuel_Type</th>\n",
       "      <th>Gear_Type</th>\n",
       "      <th>Condition</th>\n",
       "      <th>Km_run</th>\n",
       "      <th>Region</th>\n",
       "      <th>Price</th>\n",
       "      <th>Negotiable</th>\n",
       "    </tr>\n",
       "  </thead>\n",
       "  <tbody>\n",
       "    <tr>\n",
       "      <th>0</th>\n",
       "      <td>Chrysler</td>\n",
       "      <td>C300</td>\n",
       "      <td>2018.0</td>\n",
       "      <td>Saudi</td>\n",
       "      <td>Black</td>\n",
       "      <td>Full</td>\n",
       "      <td>5.7</td>\n",
       "      <td>Gas</td>\n",
       "      <td>Automatic</td>\n",
       "      <td>Used</td>\n",
       "      <td>103000.0</td>\n",
       "      <td>Riyadh</td>\n",
       "      <td>114000.0</td>\n",
       "      <td>False</td>\n",
       "    </tr>\n",
       "    <tr>\n",
       "      <th>1</th>\n",
       "      <td>Nissan</td>\n",
       "      <td>Patrol</td>\n",
       "      <td>2016.0</td>\n",
       "      <td>Saudi</td>\n",
       "      <td>White</td>\n",
       "      <td>Full</td>\n",
       "      <td>4.8</td>\n",
       "      <td>Gas</td>\n",
       "      <td>Automatic</td>\n",
       "      <td>Used</td>\n",
       "      <td>5448.0</td>\n",
       "      <td>Riyadh</td>\n",
       "      <td>58000.0</td>\n",
       "      <td>True</td>\n",
       "    </tr>\n",
       "    <tr>\n",
       "      <th>2</th>\n",
       "      <td>Nissan</td>\n",
       "      <td>Sunny</td>\n",
       "      <td>2019.0</td>\n",
       "      <td>Saudi</td>\n",
       "      <td>Silver</td>\n",
       "      <td>Standard</td>\n",
       "      <td>1.5</td>\n",
       "      <td>Gas</td>\n",
       "      <td>Automatic</td>\n",
       "      <td>Used</td>\n",
       "      <td>72418.0</td>\n",
       "      <td>Riyadh</td>\n",
       "      <td>27500.0</td>\n",
       "      <td>False</td>\n",
       "    </tr>\n",
       "    <tr>\n",
       "      <th>3</th>\n",
       "      <td>Hyundai</td>\n",
       "      <td>Elantra</td>\n",
       "      <td>2019.0</td>\n",
       "      <td>Saudi</td>\n",
       "      <td>Grey</td>\n",
       "      <td>Standard</td>\n",
       "      <td>1.6</td>\n",
       "      <td>Gas</td>\n",
       "      <td>Automatic</td>\n",
       "      <td>Used</td>\n",
       "      <td>114154.0</td>\n",
       "      <td>Riyadh</td>\n",
       "      <td>43000.0</td>\n",
       "      <td>False</td>\n",
       "    </tr>\n",
       "    <tr>\n",
       "      <th>4</th>\n",
       "      <td>Hyundai</td>\n",
       "      <td>Elantra</td>\n",
       "      <td>2019.0</td>\n",
       "      <td>Saudi</td>\n",
       "      <td>Silver</td>\n",
       "      <td>Semi Full</td>\n",
       "      <td>2.0</td>\n",
       "      <td>Gas</td>\n",
       "      <td>Automatic</td>\n",
       "      <td>Used</td>\n",
       "      <td>41912.0</td>\n",
       "      <td>Riyadh</td>\n",
       "      <td>59500.0</td>\n",
       "      <td>False</td>\n",
       "    </tr>\n",
       "  </tbody>\n",
       "</table>\n",
       "</div>"
      ],
      "text/plain": [
       "       Make    Model    Year Origin   Color    Options  Engine_Size Fuel_Type  \\\n",
       "0  Chrysler     C300  2018.0  Saudi   Black       Full          5.7       Gas   \n",
       "1    Nissan   Patrol  2016.0  Saudi   White       Full          4.8       Gas   \n",
       "2    Nissan    Sunny  2019.0  Saudi  Silver   Standard          1.5       Gas   \n",
       "3   Hyundai  Elantra  2019.0  Saudi    Grey   Standard          1.6       Gas   \n",
       "4   Hyundai  Elantra  2019.0  Saudi  Silver  Semi Full          2.0       Gas   \n",
       "\n",
       "   Gear_Type Condition    Km_run  Region     Price Negotiable  \n",
       "0  Automatic      Used  103000.0  Riyadh  114000.0      False  \n",
       "1  Automatic      Used    5448.0  Riyadh   58000.0       True  \n",
       "2  Automatic      Used   72418.0  Riyadh   27500.0      False  \n",
       "3  Automatic      Used  114154.0  Riyadh   43000.0      False  \n",
       "4  Automatic      Used   41912.0  Riyadh   59500.0      False  "
      ]
     },
     "execution_count": 56,
     "metadata": {},
     "output_type": "execute_result"
    }
   ],
   "source": [
    "data.head()"
   ]
  },
  {
   "cell_type": "code",
   "execution_count": 57,
   "id": "f86cd0e4",
   "metadata": {},
   "outputs": [],
   "source": [
    "data['Negotiable']=np.where(data['Negotiable']=='True','Yes','No')"
   ]
  },
  {
   "cell_type": "code",
   "execution_count": 58,
   "id": "7bfd549f",
   "metadata": {},
   "outputs": [
    {
     "data": {
      "text/html": [
       "<div>\n",
       "<style scoped>\n",
       "    .dataframe tbody tr th:only-of-type {\n",
       "        vertical-align: middle;\n",
       "    }\n",
       "\n",
       "    .dataframe tbody tr th {\n",
       "        vertical-align: top;\n",
       "    }\n",
       "\n",
       "    .dataframe thead th {\n",
       "        text-align: right;\n",
       "    }\n",
       "</style>\n",
       "<table border=\"1\" class=\"dataframe\">\n",
       "  <thead>\n",
       "    <tr style=\"text-align: right;\">\n",
       "      <th></th>\n",
       "      <th>Make</th>\n",
       "      <th>Model</th>\n",
       "      <th>Year</th>\n",
       "      <th>Origin</th>\n",
       "      <th>Color</th>\n",
       "      <th>Options</th>\n",
       "      <th>Engine_Size</th>\n",
       "      <th>Fuel_Type</th>\n",
       "      <th>Gear_Type</th>\n",
       "      <th>Condition</th>\n",
       "      <th>Km_run</th>\n",
       "      <th>Region</th>\n",
       "      <th>Price</th>\n",
       "      <th>Negotiable</th>\n",
       "    </tr>\n",
       "  </thead>\n",
       "  <tbody>\n",
       "    <tr>\n",
       "      <th>0</th>\n",
       "      <td>Chrysler</td>\n",
       "      <td>C300</td>\n",
       "      <td>2018.0</td>\n",
       "      <td>Saudi</td>\n",
       "      <td>Black</td>\n",
       "      <td>Full</td>\n",
       "      <td>5.7</td>\n",
       "      <td>Gas</td>\n",
       "      <td>Automatic</td>\n",
       "      <td>Used</td>\n",
       "      <td>103000.0</td>\n",
       "      <td>Riyadh</td>\n",
       "      <td>114000.0</td>\n",
       "      <td>No</td>\n",
       "    </tr>\n",
       "    <tr>\n",
       "      <th>1</th>\n",
       "      <td>Nissan</td>\n",
       "      <td>Patrol</td>\n",
       "      <td>2016.0</td>\n",
       "      <td>Saudi</td>\n",
       "      <td>White</td>\n",
       "      <td>Full</td>\n",
       "      <td>4.8</td>\n",
       "      <td>Gas</td>\n",
       "      <td>Automatic</td>\n",
       "      <td>Used</td>\n",
       "      <td>5448.0</td>\n",
       "      <td>Riyadh</td>\n",
       "      <td>58000.0</td>\n",
       "      <td>Yes</td>\n",
       "    </tr>\n",
       "    <tr>\n",
       "      <th>2</th>\n",
       "      <td>Nissan</td>\n",
       "      <td>Sunny</td>\n",
       "      <td>2019.0</td>\n",
       "      <td>Saudi</td>\n",
       "      <td>Silver</td>\n",
       "      <td>Standard</td>\n",
       "      <td>1.5</td>\n",
       "      <td>Gas</td>\n",
       "      <td>Automatic</td>\n",
       "      <td>Used</td>\n",
       "      <td>72418.0</td>\n",
       "      <td>Riyadh</td>\n",
       "      <td>27500.0</td>\n",
       "      <td>No</td>\n",
       "    </tr>\n",
       "    <tr>\n",
       "      <th>3</th>\n",
       "      <td>Hyundai</td>\n",
       "      <td>Elantra</td>\n",
       "      <td>2019.0</td>\n",
       "      <td>Saudi</td>\n",
       "      <td>Grey</td>\n",
       "      <td>Standard</td>\n",
       "      <td>1.6</td>\n",
       "      <td>Gas</td>\n",
       "      <td>Automatic</td>\n",
       "      <td>Used</td>\n",
       "      <td>114154.0</td>\n",
       "      <td>Riyadh</td>\n",
       "      <td>43000.0</td>\n",
       "      <td>No</td>\n",
       "    </tr>\n",
       "    <tr>\n",
       "      <th>4</th>\n",
       "      <td>Hyundai</td>\n",
       "      <td>Elantra</td>\n",
       "      <td>2019.0</td>\n",
       "      <td>Saudi</td>\n",
       "      <td>Silver</td>\n",
       "      <td>Semi Full</td>\n",
       "      <td>2.0</td>\n",
       "      <td>Gas</td>\n",
       "      <td>Automatic</td>\n",
       "      <td>Used</td>\n",
       "      <td>41912.0</td>\n",
       "      <td>Riyadh</td>\n",
       "      <td>59500.0</td>\n",
       "      <td>No</td>\n",
       "    </tr>\n",
       "  </tbody>\n",
       "</table>\n",
       "</div>"
      ],
      "text/plain": [
       "       Make    Model    Year Origin   Color    Options  Engine_Size Fuel_Type  \\\n",
       "0  Chrysler     C300  2018.0  Saudi   Black       Full          5.7       Gas   \n",
       "1    Nissan   Patrol  2016.0  Saudi   White       Full          4.8       Gas   \n",
       "2    Nissan    Sunny  2019.0  Saudi  Silver   Standard          1.5       Gas   \n",
       "3   Hyundai  Elantra  2019.0  Saudi    Grey   Standard          1.6       Gas   \n",
       "4   Hyundai  Elantra  2019.0  Saudi  Silver  Semi Full          2.0       Gas   \n",
       "\n",
       "   Gear_Type Condition    Km_run  Region     Price Negotiable  \n",
       "0  Automatic      Used  103000.0  Riyadh  114000.0         No  \n",
       "1  Automatic      Used    5448.0  Riyadh   58000.0        Yes  \n",
       "2  Automatic      Used   72418.0  Riyadh   27500.0         No  \n",
       "3  Automatic      Used  114154.0  Riyadh   43000.0         No  \n",
       "4  Automatic      Used   41912.0  Riyadh   59500.0         No  "
      ]
     },
     "execution_count": 58,
     "metadata": {},
     "output_type": "execute_result"
    }
   ],
   "source": [
    "data.head()"
   ]
  },
  {
   "cell_type": "code",
   "execution_count": 59,
   "id": "a3a1c5d8",
   "metadata": {},
   "outputs": [
    {
     "data": {
      "text/plain": [
       "Used    8226\n",
       "Name: Condition, dtype: int64"
      ]
     },
     "execution_count": 59,
     "metadata": {},
     "output_type": "execute_result"
    }
   ],
   "source": [
    "data['Condition'].value_counts()"
   ]
  },
  {
   "cell_type": "code",
   "execution_count": 60,
   "id": "20e1fc3e",
   "metadata": {},
   "outputs": [
    {
     "data": {
      "text/plain": [
       "2262"
      ]
     },
     "execution_count": 60,
     "metadata": {},
     "output_type": "execute_result"
    }
   ],
   "source": [
    "data['Engine_Size'].isnull().sum()"
   ]
  },
  {
   "cell_type": "code",
   "execution_count": 61,
   "id": "8d063289",
   "metadata": {},
   "outputs": [
    {
     "data": {
      "image/png": "[encoded data removed]",
      "text/plain": [
       "<Figure size 640x480 with 1 Axes>"
      ]
     },
     "metadata": {},
     "output_type": "display_data"
    }
   ],
   "source": [
    "data['Engine_Size'].plot(kind='box')\n",
    "plt.show()"
   ]
  },
  {
   "cell_type": "code",
   "execution_count": 62,
   "id": "019e5f1c",
   "metadata": {},
   "outputs": [],
   "source": [
    "data['Engine_Size']=data['Engine_Size'].fillna(data['Engine_Size'].median())"
   ]
  },
  {
   "cell_type": "code",
   "execution_count": 63,
   "id": "cce5a71f",
   "metadata": {},
   "outputs": [],
   "source": [
    "q5=np.percentile(data['Engine_Size'],5)\n",
    "q25=np.percentile(data['Engine_Size'],25)\n",
    "q75=np.percentile(data['Engine_Size'],75)\n",
    "q95=np.percentile(data['Engine_Size'],95)\n",
    "IQR=q75-q25\n",
    "lower_limit=q25-1.5*IQR\n",
    "upper_limit=q75+1.5*IQR\n",
    "data['Engine_Size']=np.where(data['Engine_Size']<lower_limit,q5,(np.where(data['Engine_Size']>upper_limit,upper_limit,data['Engine_Size'])))"
   ]
  },
  {
   "cell_type": "code",
   "execution_count": 64,
   "id": "edadab2e",
   "metadata": {},
   "outputs": [
    {
     "data": {
      "image/png": "[encoded data removed]",
      "text/plain": [
       "<Figure size 640x480 with 1 Axes>"
      ]
     },
     "metadata": {},
     "output_type": "display_data"
    }
   ],
   "source": [
    "data['Engine_Size'].plot(kind='box')\n",
    "plt.show()"
   ]
  },
  {
   "cell_type": "code",
   "execution_count": 65,
   "id": "2e3fb038",
   "metadata": {},
   "outputs": [
    {
     "data": {
      "text/html": [
       "<div>\n",
       "<style scoped>\n",
       "    .dataframe tbody tr th:only-of-type {\n",
       "        vertical-align: middle;\n",
       "    }\n",
       "\n",
       "    .dataframe tbody tr th {\n",
       "        vertical-align: top;\n",
       "    }\n",
       "\n",
       "    .dataframe thead th {\n",
       "        text-align: right;\n",
       "    }\n",
       "</style>\n",
       "<table border=\"1\" class=\"dataframe\">\n",
       "  <thead>\n",
       "    <tr style=\"text-align: right;\">\n",
       "      <th></th>\n",
       "      <th>Make</th>\n",
       "      <th>Model</th>\n",
       "      <th>Year</th>\n",
       "      <th>Origin</th>\n",
       "      <th>Color</th>\n",
       "      <th>Options</th>\n",
       "      <th>Engine_Size</th>\n",
       "      <th>Fuel_Type</th>\n",
       "      <th>Gear_Type</th>\n",
       "      <th>Condition</th>\n",
       "      <th>Km_run</th>\n",
       "      <th>Region</th>\n",
       "      <th>Price</th>\n",
       "      <th>Negotiable</th>\n",
       "    </tr>\n",
       "  </thead>\n",
       "  <tbody>\n",
       "    <tr>\n",
       "      <th>0</th>\n",
       "      <td>Chrysler</td>\n",
       "      <td>C300</td>\n",
       "      <td>2018.0</td>\n",
       "      <td>Saudi</td>\n",
       "      <td>Black</td>\n",
       "      <td>Full</td>\n",
       "      <td>5.15</td>\n",
       "      <td>Gas</td>\n",
       "      <td>Automatic</td>\n",
       "      <td>Used</td>\n",
       "      <td>103000.0</td>\n",
       "      <td>Riyadh</td>\n",
       "      <td>114000.0</td>\n",
       "      <td>No</td>\n",
       "    </tr>\n",
       "    <tr>\n",
       "      <th>1</th>\n",
       "      <td>Nissan</td>\n",
       "      <td>Patrol</td>\n",
       "      <td>2016.0</td>\n",
       "      <td>Saudi</td>\n",
       "      <td>White</td>\n",
       "      <td>Full</td>\n",
       "      <td>4.80</td>\n",
       "      <td>Gas</td>\n",
       "      <td>Automatic</td>\n",
       "      <td>Used</td>\n",
       "      <td>5448.0</td>\n",
       "      <td>Riyadh</td>\n",
       "      <td>58000.0</td>\n",
       "      <td>Yes</td>\n",
       "    </tr>\n",
       "    <tr>\n",
       "      <th>2</th>\n",
       "      <td>Nissan</td>\n",
       "      <td>Sunny</td>\n",
       "      <td>2019.0</td>\n",
       "      <td>Saudi</td>\n",
       "      <td>Silver</td>\n",
       "      <td>Standard</td>\n",
       "      <td>1.50</td>\n",
       "      <td>Gas</td>\n",
       "      <td>Automatic</td>\n",
       "      <td>Used</td>\n",
       "      <td>72418.0</td>\n",
       "      <td>Riyadh</td>\n",
       "      <td>27500.0</td>\n",
       "      <td>No</td>\n",
       "    </tr>\n",
       "    <tr>\n",
       "      <th>3</th>\n",
       "      <td>Hyundai</td>\n",
       "      <td>Elantra</td>\n",
       "      <td>2019.0</td>\n",
       "      <td>Saudi</td>\n",
       "      <td>Grey</td>\n",
       "      <td>Standard</td>\n",
       "      <td>1.60</td>\n",
       "      <td>Gas</td>\n",
       "      <td>Automatic</td>\n",
       "      <td>Used</td>\n",
       "      <td>114154.0</td>\n",
       "      <td>Riyadh</td>\n",
       "      <td>43000.0</td>\n",
       "      <td>No</td>\n",
       "    </tr>\n",
       "    <tr>\n",
       "      <th>4</th>\n",
       "      <td>Hyundai</td>\n",
       "      <td>Elantra</td>\n",
       "      <td>2019.0</td>\n",
       "      <td>Saudi</td>\n",
       "      <td>Silver</td>\n",
       "      <td>Semi Full</td>\n",
       "      <td>2.00</td>\n",
       "      <td>Gas</td>\n",
       "      <td>Automatic</td>\n",
       "      <td>Used</td>\n",
       "      <td>41912.0</td>\n",
       "      <td>Riyadh</td>\n",
       "      <td>59500.0</td>\n",
       "      <td>No</td>\n",
       "    </tr>\n",
       "  </tbody>\n",
       "</table>\n",
       "</div>"
      ],
      "text/plain": [
       "       Make    Model    Year Origin   Color    Options  Engine_Size Fuel_Type  \\\n",
       "0  Chrysler     C300  2018.0  Saudi   Black       Full         5.15       Gas   \n",
       "1    Nissan   Patrol  2016.0  Saudi   White       Full         4.80       Gas   \n",
       "2    Nissan    Sunny  2019.0  Saudi  Silver   Standard         1.50       Gas   \n",
       "3   Hyundai  Elantra  2019.0  Saudi    Grey   Standard         1.60       Gas   \n",
       "4   Hyundai  Elantra  2019.0  Saudi  Silver  Semi Full         2.00       Gas   \n",
       "\n",
       "   Gear_Type Condition    Km_run  Region     Price Negotiable  \n",
       "0  Automatic      Used  103000.0  Riyadh  114000.0         No  \n",
       "1  Automatic      Used    5448.0  Riyadh   58000.0        Yes  \n",
       "2  Automatic      Used   72418.0  Riyadh   27500.0         No  \n",
       "3  Automatic      Used  114154.0  Riyadh   43000.0         No  \n",
       "4  Automatic      Used   41912.0  Riyadh   59500.0         No  "
      ]
     },
     "execution_count": 65,
     "metadata": {},
     "output_type": "execute_result"
    }
   ],
   "source": [
    "data.head()"
   ]
  },
  {
   "cell_type": "code",
   "execution_count": 66,
   "id": "4283d0bb",
   "metadata": {},
   "outputs": [
    {
     "data": {
      "text/plain": [
       "<Figure size 1000x800 with 0 Axes>"
      ]
     },
     "metadata": {},
     "output_type": "display_data"
    },
    {
     "data": {
      "image/png": "[encoded data removed]",
      "text/plain": [
       "<Figure size 1000x500 with 2 Axes>"
      ]
     },
     "metadata": {},
     "output_type": "display_data"
    }
   ],
   "source": [
    "plt.figure(figsize=(10,8))\n",
    "sns.catplot(data,x='Options',y='Price',kind='bar',col='Gear_Type')\n",
    "plt.show()"
   ]
  },
  {
   "cell_type": "code",
   "execution_count": 67,
   "id": "fc9525a1",
   "metadata": {},
   "outputs": [
    {
     "data": {
      "text/plain": [
       "<Figure size 1000x800 with 0 Axes>"
      ]
     },
     "metadata": {},
     "output_type": "display_data"
    },
    {
     "data": {
      "image/png": "[encoded data removed]",
      "text/plain": [
       "<Figure size 1000x500 with 2 Axes>"
      ]
     },
     "metadata": {},
     "output_type": "display_data"
    }
   ],
   "source": [
    "plt.figure(figsize=(10,8))\n",
    "sns.catplot(data,x='Fuel_Type',y='Price',kind='bar',col='Gear_Type')\n",
    "plt.show()"
   ]
  },
  {
   "cell_type": "code",
   "execution_count": 68,
   "id": "44dd5c08",
   "metadata": {},
   "outputs": [
    {
     "data": {
      "text/plain": [
       "Make\n",
       "Mercedes        1150000.0\n",
       "Bentley          850000.0\n",
       "Rolls-Royce      700000.0\n",
       "Land Rover       700000.0\n",
       "Aston Martin     550000.0\n",
       "Name: Price, dtype: float64"
      ]
     },
     "execution_count": 68,
     "metadata": {},
     "output_type": "execute_result"
    }
   ],
   "source": [
    "X=data.groupby('Make')['Price'].max().sort_values(ascending=False).head()\n",
    "X"
   ]
  },
  {
   "cell_type": "code",
   "execution_count": 69,
   "id": "b75feafa",
   "metadata": {},
   "outputs": [
    {
     "data": {
      "text/plain": [
       "Model\n",
       "G           1150000.0\n",
       "Bentayga     850000.0\n",
       "Arnage       772500.0\n",
       "S            748000.0\n",
       "Ghost        700000.0\n",
       "Name: Price, dtype: float64"
      ]
     },
     "execution_count": 69,
     "metadata": {},
     "output_type": "execute_result"
    }
   ],
   "source": [
    "Y=data.groupby('Model')['Price'].max().sort_values(ascending=False).head()\n",
    "Y"
   ]
  },
  {
   "cell_type": "code",
   "execution_count": 70,
   "id": "fd321c81",
   "metadata": {},
   "outputs": [
    {
     "data": {
      "text/plain": [
       "Color\n",
       "Black            1150000.0\n",
       "Another Color     850000.0\n",
       "Grey              835000.0\n",
       "White             750000.0\n",
       "Red               620000.0\n",
       "Name: Price, dtype: float64"
      ]
     },
     "execution_count": 70,
     "metadata": {},
     "output_type": "execute_result"
    }
   ],
   "source": [
    "Z=data.groupby('Color')['Price'].max().sort_values(ascending=False).head()\n",
    "Z"
   ]
  },
  {
   "cell_type": "code",
   "execution_count": 71,
   "id": "773ebc06",
   "metadata": {},
   "outputs": [
    {
     "data": {
      "text/plain": [
       "Fuel_Type\n",
       "Gas       1150000.0\n",
       "Diesel     540000.0\n",
       "Hybrid     375000.0\n",
       "Name: Price, dtype: float64"
      ]
     },
     "execution_count": 71,
     "metadata": {},
     "output_type": "execute_result"
    }
   ],
   "source": [
    "A=data.groupby('Fuel_Type')['Price'].max().sort_values(ascending=False)\n",
    "A"
   ]
  },
  {
   "cell_type": "code",
   "execution_count": 72,
   "id": "de291734",
   "metadata": {},
   "outputs": [
    {
     "data": {
      "text/plain": [
       "Region\n",
       "Riyadh       1150000.0\n",
       "Dammam        850000.0\n",
       "Jeddah        772500.0\n",
       "Al-Medina     460500.0\n",
       "Makkah        450000.0\n",
       "Name: Price, dtype: float64"
      ]
     },
     "execution_count": 72,
     "metadata": {},
     "output_type": "execute_result"
    }
   ],
   "source": [
    "B=data.groupby('Region')['Price'].max().sort_values(ascending=False).head()\n",
    "B"
   ]
  },
  {
   "cell_type": "code",
   "execution_count": 73,
   "id": "57c829d1",
   "metadata": {},
   "outputs": [
    {
     "data": {
      "image/png": "[encoded data removed]",
      "text/plain": [
       "<Figure size 800x600 with 1 Axes>"
      ]
     },
     "metadata": {},
     "output_type": "display_data"
    }
   ],
   "source": [
    "plt.figure(figsize=(8,6))\n",
    "sns.barplot(data,x=X.index,y=X.values)\n",
    "plt.show()"
   ]
  },
  {
   "cell_type": "code",
   "execution_count": 74,
   "id": "4850ba44",
   "metadata": {},
   "outputs": [
    {
     "data": {
      "image/png": "[encoded data removed]",
      "text/plain": [
       "<Figure size 800x600 with 1 Axes>"
      ]
     },
     "metadata": {},
     "output_type": "display_data"
    }
   ],
   "source": [
    "plt.figure(figsize=(8,6))\n",
    "sns.barplot(data,x=Y.index,y=Y.values)\n",
    "plt.show()"
   ]
  },
  {
   "cell_type": "code",
   "execution_count": 75,
   "id": "4f6650a0",
   "metadata": {},
   "outputs": [
    {
     "data": {
      "image/png": "[encoded data removed]",
      "text/plain": [
       "<Figure size 800x600 with 1 Axes>"
      ]
     },
     "metadata": {},
     "output_type": "display_data"
    }
   ],
   "source": [
    "plt.figure(figsize=(8,6))\n",
    "sns.barplot(data,x=Z.index,y=Z.values)\n",
    "plt.show()"
   ]
  },
  {
   "cell_type": "code",
   "execution_count": 76,
   "id": "6976a38a",
   "metadata": {},
   "outputs": [
    {
     "data": {
      "image/png": "[encoded data removed]",
      "text/plain": [
       "<Figure size 800x600 with 1 Axes>"
      ]
     },
     "metadata": {},
     "output_type": "display_data"
    }
   ],
   "source": [
    "plt.figure(figsize=(8,6))\n",
    "sns.barplot(data,x=A.index,y=A.values)\n",
    "plt.show()"
   ]
  },
  {
   "cell_type": "code",
   "execution_count": 77,
   "id": "bbebbced",
   "metadata": {},
   "outputs": [
    {
     "data": {
      "image/png": "[encoded data removed]",
      "text/plain": [
       "<Figure size 800x600 with 1 Axes>"
      ]
     },
     "metadata": {},
     "output_type": "display_data"
    }
   ],
   "source": [
    "plt.figure(figsize=(8,6))\n",
    "sns.barplot(data,x=B.index,y=B.values)\n",
    "plt.show()"
   ]
  },
  {
   "cell_type": "code",
   "execution_count": 78,
   "id": "75dfd82d",
   "metadata": {},
   "outputs": [
    {
     "name": "stdout",
     "output_type": "stream",
     "text": [
      "<class 'pandas.core.frame.DataFrame'>\n",
      "Int64Index: 8226 entries, 0 to 8247\n",
      "Data columns (total 14 columns):\n",
      " #   Column       Non-Null Count  Dtype  \n",
      "---  ------       --------------  -----  \n",
      " 0   Make         8226 non-null   object \n",
      " 1   Model        8226 non-null   object \n",
      " 2   Year         8226 non-null   float64\n",
      " 3   Origin       8226 non-null   object \n",
      " 4   Color        8226 non-null   object \n",
      " 5   Options      8226 non-null   object \n",
      " 6   Engine_Size  8226 non-null   float64\n",
      " 7   Fuel_Type    8226 non-null   object \n",
      " 8   Gear_Type    8226 non-null   object \n",
      " 9   Condition    8226 non-null   object \n",
      " 10  Km_run       8226 non-null   float64\n",
      " 11  Region       8226 non-null   object \n",
      " 12  Price        8226 non-null   float64\n",
      " 13  Negotiable   8226 non-null   object \n",
      "dtypes: float64(4), object(10)\n",
      "memory usage: 964.0+ KB\n"
     ]
    }
   ],
   "source": [
    "data.info()"
   ]
  },
  {
   "cell_type": "code",
   "execution_count": 79,
   "id": "04186b0c",
   "metadata": {},
   "outputs": [
    {
     "data": {
      "text/plain": [
       "['Gear_Type', 'Negotiable', 'Make', 'Model', 'Condition']"
      ]
     },
     "execution_count": 79,
     "metadata": {},
     "output_type": "execute_result"
    }
   ],
   "source": [
    "cat_col=['Gear_Type','Negotiable','Make','Model','Condition']\n",
    "cat_col"
   ]
  },
  {
   "cell_type": "code",
   "execution_count": 80,
   "id": "8087a72a",
   "metadata": {},
   "outputs": [],
   "source": [
    "le=LabelEncoder()\n",
    "for i in cat_col:\n",
    "    data[i]=le.fit_transform(data[i])"
   ]
  },
  {
   "cell_type": "code",
   "execution_count": 81,
   "id": "c24660d0",
   "metadata": {},
   "outputs": [
    {
     "data": {
      "text/html": [
       "<div>\n",
       "<style scoped>\n",
       "    .dataframe tbody tr th:only-of-type {\n",
       "        vertical-align: middle;\n",
       "    }\n",
       "\n",
       "    .dataframe tbody tr th {\n",
       "        vertical-align: top;\n",
       "    }\n",
       "\n",
       "    .dataframe thead th {\n",
       "        text-align: right;\n",
       "    }\n",
       "</style>\n",
       "<table border=\"1\" class=\"dataframe\">\n",
       "  <thead>\n",
       "    <tr style=\"text-align: right;\">\n",
       "      <th></th>\n",
       "      <th>Make</th>\n",
       "      <th>Model</th>\n",
       "      <th>Year</th>\n",
       "      <th>Origin</th>\n",
       "      <th>Color</th>\n",
       "      <th>Options</th>\n",
       "      <th>Engine_Size</th>\n",
       "      <th>Fuel_Type</th>\n",
       "      <th>Gear_Type</th>\n",
       "      <th>Condition</th>\n",
       "      <th>Km_run</th>\n",
       "      <th>Region</th>\n",
       "      <th>Price</th>\n",
       "      <th>Negotiable</th>\n",
       "    </tr>\n",
       "  </thead>\n",
       "  <tbody>\n",
       "    <tr>\n",
       "      <th>0</th>\n",
       "      <td>11</td>\n",
       "      <td>63</td>\n",
       "      <td>2018.0</td>\n",
       "      <td>Saudi</td>\n",
       "      <td>Black</td>\n",
       "      <td>Full</td>\n",
       "      <td>5.15</td>\n",
       "      <td>Gas</td>\n",
       "      <td>0</td>\n",
       "      <td>0</td>\n",
       "      <td>103000.0</td>\n",
       "      <td>Riyadh</td>\n",
       "      <td>114000.0</td>\n",
       "      <td>0</td>\n",
       "    </tr>\n",
       "    <tr>\n",
       "      <th>1</th>\n",
       "      <td>48</td>\n",
       "      <td>295</td>\n",
       "      <td>2016.0</td>\n",
       "      <td>Saudi</td>\n",
       "      <td>White</td>\n",
       "      <td>Full</td>\n",
       "      <td>4.80</td>\n",
       "      <td>Gas</td>\n",
       "      <td>0</td>\n",
       "      <td>0</td>\n",
       "      <td>5448.0</td>\n",
       "      <td>Riyadh</td>\n",
       "      <td>58000.0</td>\n",
       "      <td>1</td>\n",
       "    </tr>\n",
       "    <tr>\n",
       "      <th>2</th>\n",
       "      <td>48</td>\n",
       "      <td>362</td>\n",
       "      <td>2019.0</td>\n",
       "      <td>Saudi</td>\n",
       "      <td>Silver</td>\n",
       "      <td>Standard</td>\n",
       "      <td>1.50</td>\n",
       "      <td>Gas</td>\n",
       "      <td>0</td>\n",
       "      <td>0</td>\n",
       "      <td>72418.0</td>\n",
       "      <td>Riyadh</td>\n",
       "      <td>27500.0</td>\n",
       "      <td>0</td>\n",
       "    </tr>\n",
       "    <tr>\n",
       "      <th>3</th>\n",
       "      <td>28</td>\n",
       "      <td>154</td>\n",
       "      <td>2019.0</td>\n",
       "      <td>Saudi</td>\n",
       "      <td>Grey</td>\n",
       "      <td>Standard</td>\n",
       "      <td>1.60</td>\n",
       "      <td>Gas</td>\n",
       "      <td>0</td>\n",
       "      <td>0</td>\n",
       "      <td>114154.0</td>\n",
       "      <td>Riyadh</td>\n",
       "      <td>43000.0</td>\n",
       "      <td>0</td>\n",
       "    </tr>\n",
       "    <tr>\n",
       "      <th>4</th>\n",
       "      <td>28</td>\n",
       "      <td>154</td>\n",
       "      <td>2019.0</td>\n",
       "      <td>Saudi</td>\n",
       "      <td>Silver</td>\n",
       "      <td>Semi Full</td>\n",
       "      <td>2.00</td>\n",
       "      <td>Gas</td>\n",
       "      <td>0</td>\n",
       "      <td>0</td>\n",
       "      <td>41912.0</td>\n",
       "      <td>Riyadh</td>\n",
       "      <td>59500.0</td>\n",
       "      <td>0</td>\n",
       "    </tr>\n",
       "  </tbody>\n",
       "</table>\n",
       "</div>"
      ],
      "text/plain": [
       "   Make  Model    Year Origin   Color    Options  Engine_Size Fuel_Type  \\\n",
       "0    11     63  2018.0  Saudi   Black       Full         5.15       Gas   \n",
       "1    48    295  2016.0  Saudi   White       Full         4.80       Gas   \n",
       "2    48    362  2019.0  Saudi  Silver   Standard         1.50       Gas   \n",
       "3    28    154  2019.0  Saudi    Grey   Standard         1.60       Gas   \n",
       "4    28    154  2019.0  Saudi  Silver  Semi Full         2.00       Gas   \n",
       "\n",
       "   Gear_Type  Condition    Km_run  Region     Price  Negotiable  \n",
       "0          0          0  103000.0  Riyadh  114000.0           0  \n",
       "1          0          0    5448.0  Riyadh   58000.0           1  \n",
       "2          0          0   72418.0  Riyadh   27500.0           0  \n",
       "3          0          0  114154.0  Riyadh   43000.0           0  \n",
       "4          0          0   41912.0  Riyadh   59500.0           0  "
      ]
     },
     "execution_count": 81,
     "metadata": {},
     "output_type": "execute_result"
    }
   ],
   "source": [
    "data.head()"
   ]
  },
  {
   "cell_type": "code",
   "execution_count": 82,
   "id": "7a424fa2",
   "metadata": {},
   "outputs": [
    {
     "data": {
      "text/html": [
       "<div>\n",
       "<style scoped>\n",
       "    .dataframe tbody tr th:only-of-type {\n",
       "        vertical-align: middle;\n",
       "    }\n",
       "\n",
       "    .dataframe tbody tr th {\n",
       "        vertical-align: top;\n",
       "    }\n",
       "\n",
       "    .dataframe thead th {\n",
       "        text-align: right;\n",
       "    }\n",
       "</style>\n",
       "<table border=\"1\" class=\"dataframe\">\n",
       "  <thead>\n",
       "    <tr style=\"text-align: right;\">\n",
       "      <th></th>\n",
       "      <th>Make</th>\n",
       "      <th>Model</th>\n",
       "      <th>Year</th>\n",
       "      <th>Engine_Size</th>\n",
       "      <th>Gear_Type</th>\n",
       "      <th>Condition</th>\n",
       "      <th>Km_run</th>\n",
       "      <th>Price</th>\n",
       "      <th>Negotiable</th>\n",
       "      <th>Origin_Other</th>\n",
       "      <th>...</th>\n",
       "      <th>Region_Najran</th>\n",
       "      <th>Region_Qassim</th>\n",
       "      <th>Region_Qurayyat</th>\n",
       "      <th>Region_Riyadh</th>\n",
       "      <th>Region_Sabya</th>\n",
       "      <th>Region_Sakaka</th>\n",
       "      <th>Region_Tabouk</th>\n",
       "      <th>Region_Taef</th>\n",
       "      <th>Region_Wadi Dawasir</th>\n",
       "      <th>Region_Yanbu</th>\n",
       "    </tr>\n",
       "  </thead>\n",
       "  <tbody>\n",
       "    <tr>\n",
       "      <th>0</th>\n",
       "      <td>11</td>\n",
       "      <td>63</td>\n",
       "      <td>2018.0</td>\n",
       "      <td>5.15</td>\n",
       "      <td>0</td>\n",
       "      <td>0</td>\n",
       "      <td>103000.0</td>\n",
       "      <td>114000.0</td>\n",
       "      <td>0</td>\n",
       "      <td>0</td>\n",
       "      <td>...</td>\n",
       "      <td>0</td>\n",
       "      <td>0</td>\n",
       "      <td>0</td>\n",
       "      <td>1</td>\n",
       "      <td>0</td>\n",
       "      <td>0</td>\n",
       "      <td>0</td>\n",
       "      <td>0</td>\n",
       "      <td>0</td>\n",
       "      <td>0</td>\n",
       "    </tr>\n",
       "    <tr>\n",
       "      <th>1</th>\n",
       "      <td>48</td>\n",
       "      <td>295</td>\n",
       "      <td>2016.0</td>\n",
       "      <td>4.80</td>\n",
       "      <td>0</td>\n",
       "      <td>0</td>\n",
       "      <td>5448.0</td>\n",
       "      <td>58000.0</td>\n",
       "      <td>1</td>\n",
       "      <td>0</td>\n",
       "      <td>...</td>\n",
       "      <td>0</td>\n",
       "      <td>0</td>\n",
       "      <td>0</td>\n",
       "      <td>1</td>\n",
       "      <td>0</td>\n",
       "      <td>0</td>\n",
       "      <td>0</td>\n",
       "      <td>0</td>\n",
       "      <td>0</td>\n",
       "      <td>0</td>\n",
       "    </tr>\n",
       "    <tr>\n",
       "      <th>2</th>\n",
       "      <td>48</td>\n",
       "      <td>362</td>\n",
       "      <td>2019.0</td>\n",
       "      <td>1.50</td>\n",
       "      <td>0</td>\n",
       "      <td>0</td>\n",
       "      <td>72418.0</td>\n",
       "      <td>27500.0</td>\n",
       "      <td>0</td>\n",
       "      <td>0</td>\n",
       "      <td>...</td>\n",
       "      <td>0</td>\n",
       "      <td>0</td>\n",
       "      <td>0</td>\n",
       "      <td>1</td>\n",
       "      <td>0</td>\n",
       "      <td>0</td>\n",
       "      <td>0</td>\n",
       "      <td>0</td>\n",
       "      <td>0</td>\n",
       "      <td>0</td>\n",
       "    </tr>\n",
       "    <tr>\n",
       "      <th>3</th>\n",
       "      <td>28</td>\n",
       "      <td>154</td>\n",
       "      <td>2019.0</td>\n",
       "      <td>1.60</td>\n",
       "      <td>0</td>\n",
       "      <td>0</td>\n",
       "      <td>114154.0</td>\n",
       "      <td>43000.0</td>\n",
       "      <td>0</td>\n",
       "      <td>0</td>\n",
       "      <td>...</td>\n",
       "      <td>0</td>\n",
       "      <td>0</td>\n",
       "      <td>0</td>\n",
       "      <td>1</td>\n",
       "      <td>0</td>\n",
       "      <td>0</td>\n",
       "      <td>0</td>\n",
       "      <td>0</td>\n",
       "      <td>0</td>\n",
       "      <td>0</td>\n",
       "    </tr>\n",
       "    <tr>\n",
       "      <th>4</th>\n",
       "      <td>28</td>\n",
       "      <td>154</td>\n",
       "      <td>2019.0</td>\n",
       "      <td>2.00</td>\n",
       "      <td>0</td>\n",
       "      <td>0</td>\n",
       "      <td>41912.0</td>\n",
       "      <td>59500.0</td>\n",
       "      <td>0</td>\n",
       "      <td>0</td>\n",
       "      <td>...</td>\n",
       "      <td>0</td>\n",
       "      <td>0</td>\n",
       "      <td>0</td>\n",
       "      <td>1</td>\n",
       "      <td>0</td>\n",
       "      <td>0</td>\n",
       "      <td>0</td>\n",
       "      <td>0</td>\n",
       "      <td>0</td>\n",
       "      <td>0</td>\n",
       "    </tr>\n",
       "  </tbody>\n",
       "</table>\n",
       "<p>5 rows × 55 columns</p>\n",
       "</div>"
      ],
      "text/plain": [
       "   Make  Model    Year  Engine_Size  Gear_Type  Condition    Km_run     Price  \\\n",
       "0    11     63  2018.0         5.15          0          0  103000.0  114000.0   \n",
       "1    48    295  2016.0         4.80          0          0    5448.0   58000.0   \n",
       "2    48    362  2019.0         1.50          0          0   72418.0   27500.0   \n",
       "3    28    154  2019.0         1.60          0          0  114154.0   43000.0   \n",
       "4    28    154  2019.0         2.00          0          0   41912.0   59500.0   \n",
       "\n",
       "   Negotiable  Origin_Other  ...  Region_Najran  Region_Qassim  \\\n",
       "0           0             0  ...              0              0   \n",
       "1           1             0  ...              0              0   \n",
       "2           0             0  ...              0              0   \n",
       "3           0             0  ...              0              0   \n",
       "4           0             0  ...              0              0   \n",
       "\n",
       "   Region_Qurayyat  Region_Riyadh  Region_Sabya  Region_Sakaka  Region_Tabouk  \\\n",
       "0                0              1             0              0              0   \n",
       "1                0              1             0              0              0   \n",
       "2                0              1             0              0              0   \n",
       "3                0              1             0              0              0   \n",
       "4                0              1             0              0              0   \n",
       "\n",
       "   Region_Taef  Region_Wadi Dawasir  Region_Yanbu  \n",
       "0            0                    0             0  \n",
       "1            0                    0             0  \n",
       "2            0                    0             0  \n",
       "3            0                    0             0  \n",
       "4            0                    0             0  \n",
       "\n",
       "[5 rows x 55 columns]"
      ]
     },
     "execution_count": 82,
     "metadata": {},
     "output_type": "execute_result"
    }
   ],
   "source": [
    "data=pd.get_dummies(data,columns=['Origin','Color','Options','Fuel_Type','Region'],drop_first=True)\n",
    "data.head()"
   ]
  },
  {
   "cell_type": "code",
   "execution_count": 83,
   "id": "ea765731",
   "metadata": {},
   "outputs": [],
   "source": [
    "x=data.drop(['Price'],axis=1)\n",
    "y=data['Price']"
   ]
  },
  {
   "cell_type": "code",
   "execution_count": 84,
   "id": "c3b1aaae",
   "metadata": {},
   "outputs": [
    {
     "data": {
      "text/plain": [
       "(8226, 54)"
      ]
     },
     "execution_count": 84,
     "metadata": {},
     "output_type": "execute_result"
    }
   ],
   "source": [
    "scaler=StandardScaler()\n",
    "sc_x=scaler.fit_transform(x)\n",
    "variable=sc_x\n",
    "variable.shape"
   ]
  },
  {
   "cell_type": "code",
   "execution_count": 85,
   "id": "419f6ee1",
   "metadata": {},
   "outputs": [
    {
     "data": {
      "text/html": [
       "<div>\n",
       "<style scoped>\n",
       "    .dataframe tbody tr th:only-of-type {\n",
       "        vertical-align: middle;\n",
       "    }\n",
       "\n",
       "    .dataframe tbody tr th {\n",
       "        vertical-align: top;\n",
       "    }\n",
       "\n",
       "    .dataframe thead th {\n",
       "        text-align: right;\n",
       "    }\n",
       "</style>\n",
       "<table border=\"1\" class=\"dataframe\">\n",
       "  <thead>\n",
       "    <tr style=\"text-align: right;\">\n",
       "      <th></th>\n",
       "      <th>variance inflation factor</th>\n",
       "      <th>features</th>\n",
       "    </tr>\n",
       "  </thead>\n",
       "  <tbody>\n",
       "    <tr>\n",
       "      <th>0</th>\n",
       "      <td>1.270787</td>\n",
       "      <td>Make</td>\n",
       "    </tr>\n",
       "    <tr>\n",
       "      <th>1</th>\n",
       "      <td>1.073008</td>\n",
       "      <td>Model</td>\n",
       "    </tr>\n",
       "    <tr>\n",
       "      <th>2</th>\n",
       "      <td>1.568238</td>\n",
       "      <td>Year</td>\n",
       "    </tr>\n",
       "    <tr>\n",
       "      <th>3</th>\n",
       "      <td>1.171346</td>\n",
       "      <td>Engine_Size</td>\n",
       "    </tr>\n",
       "    <tr>\n",
       "      <th>4</th>\n",
       "      <td>1.319644</td>\n",
       "      <td>Gear_Type</td>\n",
       "    </tr>\n",
       "    <tr>\n",
       "      <th>5</th>\n",
       "      <td>NaN</td>\n",
       "      <td>Condition</td>\n",
       "    </tr>\n",
       "    <tr>\n",
       "      <th>6</th>\n",
       "      <td>1.292214</td>\n",
       "      <td>Km_run</td>\n",
       "    </tr>\n",
       "    <tr>\n",
       "      <th>7</th>\n",
       "      <td>1.109412</td>\n",
       "      <td>Negotiable</td>\n",
       "    </tr>\n",
       "    <tr>\n",
       "      <th>8</th>\n",
       "      <td>1.911626</td>\n",
       "      <td>Origin_Other</td>\n",
       "    </tr>\n",
       "    <tr>\n",
       "      <th>9</th>\n",
       "      <td>1.869549</td>\n",
       "      <td>Origin_Saudi</td>\n",
       "    </tr>\n",
       "    <tr>\n",
       "      <th>10</th>\n",
       "      <td>2.485387</td>\n",
       "      <td>Color_Black</td>\n",
       "    </tr>\n",
       "    <tr>\n",
       "      <th>11</th>\n",
       "      <td>1.397401</td>\n",
       "      <td>Color_Blue</td>\n",
       "    </tr>\n",
       "    <tr>\n",
       "      <th>12</th>\n",
       "      <td>1.283217</td>\n",
       "      <td>Color_Bronze</td>\n",
       "    </tr>\n",
       "    <tr>\n",
       "      <th>13</th>\n",
       "      <td>1.550809</td>\n",
       "      <td>Color_Brown</td>\n",
       "    </tr>\n",
       "    <tr>\n",
       "      <th>14</th>\n",
       "      <td>1.398202</td>\n",
       "      <td>Color_Golden</td>\n",
       "    </tr>\n",
       "    <tr>\n",
       "      <th>15</th>\n",
       "      <td>1.090335</td>\n",
       "      <td>Color_Green</td>\n",
       "    </tr>\n",
       "    <tr>\n",
       "      <th>16</th>\n",
       "      <td>2.171476</td>\n",
       "      <td>Color_Grey</td>\n",
       "    </tr>\n",
       "    <tr>\n",
       "      <th>17</th>\n",
       "      <td>1.285506</td>\n",
       "      <td>Color_Navy</td>\n",
       "    </tr>\n",
       "    <tr>\n",
       "      <th>18</th>\n",
       "      <td>1.102566</td>\n",
       "      <td>Color_Oily</td>\n",
       "    </tr>\n",
       "    <tr>\n",
       "      <th>19</th>\n",
       "      <td>1.021702</td>\n",
       "      <td>Color_Orange</td>\n",
       "    </tr>\n",
       "    <tr>\n",
       "      <th>20</th>\n",
       "      <td>1.486025</td>\n",
       "      <td>Color_Red</td>\n",
       "    </tr>\n",
       "    <tr>\n",
       "      <th>21</th>\n",
       "      <td>2.415685</td>\n",
       "      <td>Color_Silver</td>\n",
       "    </tr>\n",
       "    <tr>\n",
       "      <th>22</th>\n",
       "      <td>4.411022</td>\n",
       "      <td>Color_White</td>\n",
       "    </tr>\n",
       "    <tr>\n",
       "      <th>23</th>\n",
       "      <td>1.030862</td>\n",
       "      <td>Color_Yellow</td>\n",
       "    </tr>\n",
       "    <tr>\n",
       "      <th>24</th>\n",
       "      <td>1.257905</td>\n",
       "      <td>Options_Semi Full</td>\n",
       "    </tr>\n",
       "    <tr>\n",
       "      <th>25</th>\n",
       "      <td>1.402039</td>\n",
       "      <td>Options_Standard</td>\n",
       "    </tr>\n",
       "    <tr>\n",
       "      <th>26</th>\n",
       "      <td>1.232047</td>\n",
       "      <td>Fuel_Type_Gas</td>\n",
       "    </tr>\n",
       "    <tr>\n",
       "      <th>27</th>\n",
       "      <td>1.159255</td>\n",
       "      <td>Fuel_Type_Hybrid</td>\n",
       "    </tr>\n",
       "    <tr>\n",
       "      <th>28</th>\n",
       "      <td>3.662358</td>\n",
       "      <td>Region_Al-Ahsa</td>\n",
       "    </tr>\n",
       "    <tr>\n",
       "      <th>29</th>\n",
       "      <td>1.567314</td>\n",
       "      <td>Region_Al-Baha</td>\n",
       "    </tr>\n",
       "    <tr>\n",
       "      <th>30</th>\n",
       "      <td>1.452672</td>\n",
       "      <td>Region_Al-Jouf</td>\n",
       "    </tr>\n",
       "    <tr>\n",
       "      <th>31</th>\n",
       "      <td>4.391119</td>\n",
       "      <td>Region_Al-Medina</td>\n",
       "    </tr>\n",
       "    <tr>\n",
       "      <th>32</th>\n",
       "      <td>1.210795</td>\n",
       "      <td>Region_Al-Namas</td>\n",
       "    </tr>\n",
       "    <tr>\n",
       "      <th>33</th>\n",
       "      <td>1.421119</td>\n",
       "      <td>Region_Arar</td>\n",
       "    </tr>\n",
       "    <tr>\n",
       "      <th>34</th>\n",
       "      <td>3.661342</td>\n",
       "      <td>Region_Aseer</td>\n",
       "    </tr>\n",
       "    <tr>\n",
       "      <th>35</th>\n",
       "      <td>1.281259</td>\n",
       "      <td>Region_Besha</td>\n",
       "    </tr>\n",
       "    <tr>\n",
       "      <th>36</th>\n",
       "      <td>14.577908</td>\n",
       "      <td>Region_Dammam</td>\n",
       "    </tr>\n",
       "    <tr>\n",
       "      <th>37</th>\n",
       "      <td>1.785103</td>\n",
       "      <td>Region_Hafar Al-Batin</td>\n",
       "    </tr>\n",
       "    <tr>\n",
       "      <th>38</th>\n",
       "      <td>1.986341</td>\n",
       "      <td>Region_Hail</td>\n",
       "    </tr>\n",
       "    <tr>\n",
       "      <th>39</th>\n",
       "      <td>2.053164</td>\n",
       "      <td>Region_Jazan</td>\n",
       "    </tr>\n",
       "    <tr>\n",
       "      <th>40</th>\n",
       "      <td>11.877725</td>\n",
       "      <td>Region_Jeddah</td>\n",
       "    </tr>\n",
       "    <tr>\n",
       "      <th>41</th>\n",
       "      <td>2.146988</td>\n",
       "      <td>Region_Jubail</td>\n",
       "    </tr>\n",
       "    <tr>\n",
       "      <th>42</th>\n",
       "      <td>2.083017</td>\n",
       "      <td>Region_Khobar</td>\n",
       "    </tr>\n",
       "    <tr>\n",
       "      <th>43</th>\n",
       "      <td>3.702548</td>\n",
       "      <td>Region_Makkah</td>\n",
       "    </tr>\n",
       "    <tr>\n",
       "      <th>44</th>\n",
       "      <td>1.679647</td>\n",
       "      <td>Region_Najran</td>\n",
       "    </tr>\n",
       "    <tr>\n",
       "      <th>45</th>\n",
       "      <td>4.547555</td>\n",
       "      <td>Region_Qassim</td>\n",
       "    </tr>\n",
       "    <tr>\n",
       "      <th>46</th>\n",
       "      <td>1.174776</td>\n",
       "      <td>Region_Qurayyat</td>\n",
       "    </tr>\n",
       "    <tr>\n",
       "      <th>47</th>\n",
       "      <td>23.866066</td>\n",
       "      <td>Region_Riyadh</td>\n",
       "    </tr>\n",
       "    <tr>\n",
       "      <th>48</th>\n",
       "      <td>1.074456</td>\n",
       "      <td>Region_Sabya</td>\n",
       "    </tr>\n",
       "    <tr>\n",
       "      <th>49</th>\n",
       "      <td>1.142162</td>\n",
       "      <td>Region_Sakaka</td>\n",
       "    </tr>\n",
       "    <tr>\n",
       "      <th>50</th>\n",
       "      <td>2.541592</td>\n",
       "      <td>Region_Tabouk</td>\n",
       "    </tr>\n",
       "    <tr>\n",
       "      <th>51</th>\n",
       "      <td>2.590834</td>\n",
       "      <td>Region_Taef</td>\n",
       "    </tr>\n",
       "    <tr>\n",
       "      <th>52</th>\n",
       "      <td>1.210963</td>\n",
       "      <td>Region_Wadi Dawasir</td>\n",
       "    </tr>\n",
       "    <tr>\n",
       "      <th>53</th>\n",
       "      <td>1.450612</td>\n",
       "      <td>Region_Yanbu</td>\n",
       "    </tr>\n",
       "  </tbody>\n",
       "</table>\n",
       "</div>"
      ],
      "text/plain": [
       "    variance inflation factor               features\n",
       "0                    1.270787                   Make\n",
       "1                    1.073008                  Model\n",
       "2                    1.568238                   Year\n",
       "3                    1.171346            Engine_Size\n",
       "4                    1.319644              Gear_Type\n",
       "5                         NaN              Condition\n",
       "6                    1.292214                 Km_run\n",
       "7                    1.109412             Negotiable\n",
       "8                    1.911626           Origin_Other\n",
       "9                    1.869549           Origin_Saudi\n",
       "10                   2.485387            Color_Black\n",
       "11                   1.397401             Color_Blue\n",
       "12                   1.283217           Color_Bronze\n",
       "13                   1.550809            Color_Brown\n",
       "14                   1.398202           Color_Golden\n",
       "15                   1.090335            Color_Green\n",
       "16                   2.171476             Color_Grey\n",
       "17                   1.285506             Color_Navy\n",
       "18                   1.102566             Color_Oily\n",
       "19                   1.021702           Color_Orange\n",
       "20                   1.486025              Color_Red\n",
       "21                   2.415685           Color_Silver\n",
       "22                   4.411022            Color_White\n",
       "23                   1.030862           Color_Yellow\n",
       "24                   1.257905      Options_Semi Full\n",
       "25                   1.402039       Options_Standard\n",
       "26                   1.232047          Fuel_Type_Gas\n",
       "27                   1.159255       Fuel_Type_Hybrid\n",
       "28                   3.662358         Region_Al-Ahsa\n",
       "29                   1.567314         Region_Al-Baha\n",
       "30                   1.452672         Region_Al-Jouf\n",
       "31                   4.391119       Region_Al-Medina\n",
       "32                   1.210795        Region_Al-Namas\n",
       "33                   1.421119            Region_Arar\n",
       "34                   3.661342           Region_Aseer\n",
       "35                   1.281259           Region_Besha\n",
       "36                  14.577908          Region_Dammam\n",
       "37                   1.785103  Region_Hafar Al-Batin\n",
       "38                   1.986341            Region_Hail\n",
       "39                   2.053164           Region_Jazan\n",
       "40                  11.877725          Region_Jeddah\n",
       "41                   2.146988          Region_Jubail\n",
       "42                   2.083017          Region_Khobar\n",
       "43                   3.702548          Region_Makkah\n",
       "44                   1.679647          Region_Najran\n",
       "45                   4.547555          Region_Qassim\n",
       "46                   1.174776        Region_Qurayyat\n",
       "47                  23.866066          Region_Riyadh\n",
       "48                   1.074456           Region_Sabya\n",
       "49                   1.142162          Region_Sakaka\n",
       "50                   2.541592          Region_Tabouk\n",
       "51                   2.590834            Region_Taef\n",
       "52                   1.210963    Region_Wadi Dawasir\n",
       "53                   1.450612           Region_Yanbu"
      ]
     },
     "execution_count": 85,
     "metadata": {},
     "output_type": "execute_result"
    }
   ],
   "source": [
    "vif=pd.DataFrame()\n",
    "vif['variance inflation factor']=[variance_inflation_factor(variable,i) for i in range(variable.shape[1])]\n",
    "vif['features']=x.columns\n",
    "vif"
   ]
  },
  {
   "cell_type": "code",
   "execution_count": 86,
   "id": "a2174a30",
   "metadata": {},
   "outputs": [],
   "source": [
    "data1=data.copy()"
   ]
  },
  {
   "cell_type": "code",
   "execution_count": 87,
   "id": "707baa66",
   "metadata": {},
   "outputs": [],
   "source": [
    "data1=data1.drop(['Region_Riyadh','Condition'],axis=1)"
   ]
  },
  {
   "cell_type": "code",
   "execution_count": 88,
   "id": "b3a48574",
   "metadata": {},
   "outputs": [],
   "source": [
    "x=data1.drop(['Price'],axis=1)\n",
    "y=data1['Price']"
   ]
  },
  {
   "cell_type": "code",
   "execution_count": 89,
   "id": "ef5093e6",
   "metadata": {},
   "outputs": [
    {
     "data": {
      "text/plain": [
       "(8226, 52)"
      ]
     },
     "execution_count": 89,
     "metadata": {},
     "output_type": "execute_result"
    }
   ],
   "source": [
    "scaler=StandardScaler()\n",
    "sc_x=scaler.fit_transform(x)\n",
    "variable=sc_x\n",
    "variable.shape"
   ]
  },
  {
   "cell_type": "code",
   "execution_count": 90,
   "id": "ea2c8041",
   "metadata": {},
   "outputs": [
    {
     "data": {
      "text/html": [
       "<div>\n",
       "<style scoped>\n",
       "    .dataframe tbody tr th:only-of-type {\n",
       "        vertical-align: middle;\n",
       "    }\n",
       "\n",
       "    .dataframe tbody tr th {\n",
       "        vertical-align: top;\n",
       "    }\n",
       "\n",
       "    .dataframe thead th {\n",
       "        text-align: right;\n",
       "    }\n",
       "</style>\n",
       "<table border=\"1\" class=\"dataframe\">\n",
       "  <thead>\n",
       "    <tr style=\"text-align: right;\">\n",
       "      <th></th>\n",
       "      <th>variance inflation factor</th>\n",
       "      <th>features</th>\n",
       "    </tr>\n",
       "  </thead>\n",
       "  <tbody>\n",
       "    <tr>\n",
       "      <th>0</th>\n",
       "      <td>1.270724</td>\n",
       "      <td>Make</td>\n",
       "    </tr>\n",
       "    <tr>\n",
       "      <th>1</th>\n",
       "      <td>1.072701</td>\n",
       "      <td>Model</td>\n",
       "    </tr>\n",
       "    <tr>\n",
       "      <th>2</th>\n",
       "      <td>1.564143</td>\n",
       "      <td>Year</td>\n",
       "    </tr>\n",
       "    <tr>\n",
       "      <th>3</th>\n",
       "      <td>1.171082</td>\n",
       "      <td>Engine_Size</td>\n",
       "    </tr>\n",
       "    <tr>\n",
       "      <th>4</th>\n",
       "      <td>1.318192</td>\n",
       "      <td>Gear_Type</td>\n",
       "    </tr>\n",
       "    <tr>\n",
       "      <th>5</th>\n",
       "      <td>1.292051</td>\n",
       "      <td>Km_run</td>\n",
       "    </tr>\n",
       "    <tr>\n",
       "      <th>6</th>\n",
       "      <td>1.107946</td>\n",
       "      <td>Negotiable</td>\n",
       "    </tr>\n",
       "    <tr>\n",
       "      <th>7</th>\n",
       "      <td>1.910147</td>\n",
       "      <td>Origin_Other</td>\n",
       "    </tr>\n",
       "    <tr>\n",
       "      <th>8</th>\n",
       "      <td>1.868288</td>\n",
       "      <td>Origin_Saudi</td>\n",
       "    </tr>\n",
       "    <tr>\n",
       "      <th>9</th>\n",
       "      <td>2.485338</td>\n",
       "      <td>Color_Black</td>\n",
       "    </tr>\n",
       "    <tr>\n",
       "      <th>10</th>\n",
       "      <td>1.397338</td>\n",
       "      <td>Color_Blue</td>\n",
       "    </tr>\n",
       "    <tr>\n",
       "      <th>11</th>\n",
       "      <td>1.282965</td>\n",
       "      <td>Color_Bronze</td>\n",
       "    </tr>\n",
       "    <tr>\n",
       "      <th>12</th>\n",
       "      <td>1.550807</td>\n",
       "      <td>Color_Brown</td>\n",
       "    </tr>\n",
       "    <tr>\n",
       "      <th>13</th>\n",
       "      <td>1.397718</td>\n",
       "      <td>Color_Golden</td>\n",
       "    </tr>\n",
       "    <tr>\n",
       "      <th>14</th>\n",
       "      <td>1.090289</td>\n",
       "      <td>Color_Green</td>\n",
       "    </tr>\n",
       "    <tr>\n",
       "      <th>15</th>\n",
       "      <td>2.171353</td>\n",
       "      <td>Color_Grey</td>\n",
       "    </tr>\n",
       "    <tr>\n",
       "      <th>16</th>\n",
       "      <td>1.285485</td>\n",
       "      <td>Color_Navy</td>\n",
       "    </tr>\n",
       "    <tr>\n",
       "      <th>17</th>\n",
       "      <td>1.102353</td>\n",
       "      <td>Color_Oily</td>\n",
       "    </tr>\n",
       "    <tr>\n",
       "      <th>18</th>\n",
       "      <td>1.021695</td>\n",
       "      <td>Color_Orange</td>\n",
       "    </tr>\n",
       "    <tr>\n",
       "      <th>19</th>\n",
       "      <td>1.485760</td>\n",
       "      <td>Color_Red</td>\n",
       "    </tr>\n",
       "    <tr>\n",
       "      <th>20</th>\n",
       "      <td>2.415667</td>\n",
       "      <td>Color_Silver</td>\n",
       "    </tr>\n",
       "    <tr>\n",
       "      <th>21</th>\n",
       "      <td>4.410770</td>\n",
       "      <td>Color_White</td>\n",
       "    </tr>\n",
       "    <tr>\n",
       "      <th>22</th>\n",
       "      <td>1.030847</td>\n",
       "      <td>Color_Yellow</td>\n",
       "    </tr>\n",
       "    <tr>\n",
       "      <th>23</th>\n",
       "      <td>1.257802</td>\n",
       "      <td>Options_Semi Full</td>\n",
       "    </tr>\n",
       "    <tr>\n",
       "      <th>24</th>\n",
       "      <td>1.402034</td>\n",
       "      <td>Options_Standard</td>\n",
       "    </tr>\n",
       "    <tr>\n",
       "      <th>25</th>\n",
       "      <td>1.232015</td>\n",
       "      <td>Fuel_Type_Gas</td>\n",
       "    </tr>\n",
       "    <tr>\n",
       "      <th>26</th>\n",
       "      <td>1.159238</td>\n",
       "      <td>Fuel_Type_Hybrid</td>\n",
       "    </tr>\n",
       "    <tr>\n",
       "      <th>27</th>\n",
       "      <td>1.047868</td>\n",
       "      <td>Region_Al-Ahsa</td>\n",
       "    </tr>\n",
       "    <tr>\n",
       "      <th>28</th>\n",
       "      <td>1.020939</td>\n",
       "      <td>Region_Al-Baha</td>\n",
       "    </tr>\n",
       "    <tr>\n",
       "      <th>29</th>\n",
       "      <td>1.013426</td>\n",
       "      <td>Region_Al-Jouf</td>\n",
       "    </tr>\n",
       "    <tr>\n",
       "      <th>30</th>\n",
       "      <td>1.063175</td>\n",
       "      <td>Region_Al-Medina</td>\n",
       "    </tr>\n",
       "    <tr>\n",
       "      <th>31</th>\n",
       "      <td>1.010573</td>\n",
       "      <td>Region_Al-Namas</td>\n",
       "    </tr>\n",
       "    <tr>\n",
       "      <th>32</th>\n",
       "      <td>1.012849</td>\n",
       "      <td>Region_Arar</td>\n",
       "    </tr>\n",
       "    <tr>\n",
       "      <th>33</th>\n",
       "      <td>1.061745</td>\n",
       "      <td>Region_Aseer</td>\n",
       "    </tr>\n",
       "    <tr>\n",
       "      <th>34</th>\n",
       "      <td>1.012830</td>\n",
       "      <td>Region_Besha</td>\n",
       "    </tr>\n",
       "    <tr>\n",
       "      <th>35</th>\n",
       "      <td>1.202336</td>\n",
       "      <td>Region_Dammam</td>\n",
       "    </tr>\n",
       "    <tr>\n",
       "      <th>36</th>\n",
       "      <td>1.020236</td>\n",
       "      <td>Region_Hafar Al-Batin</td>\n",
       "    </tr>\n",
       "    <tr>\n",
       "      <th>37</th>\n",
       "      <td>1.028867</td>\n",
       "      <td>Region_Hail</td>\n",
       "    </tr>\n",
       "    <tr>\n",
       "      <th>38</th>\n",
       "      <td>1.023929</td>\n",
       "      <td>Region_Jazan</td>\n",
       "    </tr>\n",
       "    <tr>\n",
       "      <th>39</th>\n",
       "      <td>1.167570</td>\n",
       "      <td>Region_Jeddah</td>\n",
       "    </tr>\n",
       "    <tr>\n",
       "      <th>40</th>\n",
       "      <td>1.023730</td>\n",
       "      <td>Region_Jubail</td>\n",
       "    </tr>\n",
       "    <tr>\n",
       "      <th>41</th>\n",
       "      <td>1.019435</td>\n",
       "      <td>Region_Khobar</td>\n",
       "    </tr>\n",
       "    <tr>\n",
       "      <th>42</th>\n",
       "      <td>1.053652</td>\n",
       "      <td>Region_Makkah</td>\n",
       "    </tr>\n",
       "    <tr>\n",
       "      <th>43</th>\n",
       "      <td>1.022238</td>\n",
       "      <td>Region_Najran</td>\n",
       "    </tr>\n",
       "    <tr>\n",
       "      <th>44</th>\n",
       "      <td>1.080039</td>\n",
       "      <td>Region_Qassim</td>\n",
       "    </tr>\n",
       "    <tr>\n",
       "      <th>45</th>\n",
       "      <td>1.006119</td>\n",
       "      <td>Region_Qurayyat</td>\n",
       "    </tr>\n",
       "    <tr>\n",
       "      <th>46</th>\n",
       "      <td>1.008852</td>\n",
       "      <td>Region_Sabya</td>\n",
       "    </tr>\n",
       "    <tr>\n",
       "      <th>47</th>\n",
       "      <td>1.005372</td>\n",
       "      <td>Region_Sakaka</td>\n",
       "    </tr>\n",
       "    <tr>\n",
       "      <th>48</th>\n",
       "      <td>1.041796</td>\n",
       "      <td>Region_Tabouk</td>\n",
       "    </tr>\n",
       "    <tr>\n",
       "      <th>49</th>\n",
       "      <td>1.041169</td>\n",
       "      <td>Region_Taef</td>\n",
       "    </tr>\n",
       "    <tr>\n",
       "      <th>50</th>\n",
       "      <td>1.020409</td>\n",
       "      <td>Region_Wadi Dawasir</td>\n",
       "    </tr>\n",
       "    <tr>\n",
       "      <th>51</th>\n",
       "      <td>1.012176</td>\n",
       "      <td>Region_Yanbu</td>\n",
       "    </tr>\n",
       "  </tbody>\n",
       "</table>\n",
       "</div>"
      ],
      "text/plain": [
       "    variance inflation factor               features\n",
       "0                    1.270724                   Make\n",
       "1                    1.072701                  Model\n",
       "2                    1.564143                   Year\n",
       "3                    1.171082            Engine_Size\n",
       "4                    1.318192              Gear_Type\n",
       "5                    1.292051                 Km_run\n",
       "6                    1.107946             Negotiable\n",
       "7                    1.910147           Origin_Other\n",
       "8                    1.868288           Origin_Saudi\n",
       "9                    2.485338            Color_Black\n",
       "10                   1.397338             Color_Blue\n",
       "11                   1.282965           Color_Bronze\n",
       "12                   1.550807            Color_Brown\n",
       "13                   1.397718           Color_Golden\n",
       "14                   1.090289            Color_Green\n",
       "15                   2.171353             Color_Grey\n",
       "16                   1.285485             Color_Navy\n",
       "17                   1.102353             Color_Oily\n",
       "18                   1.021695           Color_Orange\n",
       "19                   1.485760              Color_Red\n",
       "20                   2.415667           Color_Silver\n",
       "21                   4.410770            Color_White\n",
       "22                   1.030847           Color_Yellow\n",
       "23                   1.257802      Options_Semi Full\n",
       "24                   1.402034       Options_Standard\n",
       "25                   1.232015          Fuel_Type_Gas\n",
       "26                   1.159238       Fuel_Type_Hybrid\n",
       "27                   1.047868         Region_Al-Ahsa\n",
       "28                   1.020939         Region_Al-Baha\n",
       "29                   1.013426         Region_Al-Jouf\n",
       "30                   1.063175       Region_Al-Medina\n",
       "31                   1.010573        Region_Al-Namas\n",
       "32                   1.012849            Region_Arar\n",
       "33                   1.061745           Region_Aseer\n",
       "34                   1.012830           Region_Besha\n",
       "35                   1.202336          Region_Dammam\n",
       "36                   1.020236  Region_Hafar Al-Batin\n",
       "37                   1.028867            Region_Hail\n",
       "38                   1.023929           Region_Jazan\n",
       "39                   1.167570          Region_Jeddah\n",
       "40                   1.023730          Region_Jubail\n",
       "41                   1.019435          Region_Khobar\n",
       "42                   1.053652          Region_Makkah\n",
       "43                   1.022238          Region_Najran\n",
       "44                   1.080039          Region_Qassim\n",
       "45                   1.006119        Region_Qurayyat\n",
       "46                   1.008852           Region_Sabya\n",
       "47                   1.005372          Region_Sakaka\n",
       "48                   1.041796          Region_Tabouk\n",
       "49                   1.041169            Region_Taef\n",
       "50                   1.020409    Region_Wadi Dawasir\n",
       "51                   1.012176           Region_Yanbu"
      ]
     },
     "execution_count": 90,
     "metadata": {},
     "output_type": "execute_result"
    }
   ],
   "source": [
    "vif=pd.DataFrame()\n",
    "vif['variance inflation factor']=[variance_inflation_factor(variable,i) for i in range(variable.shape[1])]\n",
    "vif['features']=x.columns\n",
    "vif"
   ]
  },
  {
   "cell_type": "code",
   "execution_count": 91,
   "id": "2cb7ce2e",
   "metadata": {},
   "outputs": [
    {
     "name": "stdout",
     "output_type": "stream",
     "text": [
      "(6169, 52) (2057, 52) (6169,) (2057,)\n"
     ]
    }
   ],
   "source": [
    "x_train, x_test, y_train, y_test = train_test_split(x,y,test_size=0.25,random_state=101)\n",
    "print(x_train.shape, x_test.shape, y_train.shape, y_test.shape)"
   ]
  },
  {
   "cell_type": "code",
   "execution_count": 92,
   "id": "c05ca7fb",
   "metadata": {
    "scrolled": false
   },
   "outputs": [
    {
     "data": {
      "text/html": [
       "<table class=\"simpletable\">\n",
       "<caption>OLS Regression Results</caption>\n",
       "<tr>\n",
       "  <th>Dep. Variable:</th>          <td>Price</td>      <th>  R-squared (uncentered):</th>      <td>   0.665</td> \n",
       "</tr>\n",
       "<tr>\n",
       "  <th>Model:</th>                   <td>OLS</td>       <th>  Adj. R-squared (uncentered):</th> <td>   0.662</td> \n",
       "</tr>\n",
       "<tr>\n",
       "  <th>Method:</th>             <td>Least Squares</td>  <th>  F-statistic:       </th>          <td>   233.8</td> \n",
       "</tr>\n",
       "<tr>\n",
       "  <th>Date:</th>             <td>Sat, 24 Feb 2024</td> <th>  Prob (F-statistic):</th>           <td>  0.00</td>  \n",
       "</tr>\n",
       "<tr>\n",
       "  <th>Time:</th>                 <td>19:23:28</td>     <th>  Log-Likelihood:    </th>          <td> -76195.</td> \n",
       "</tr>\n",
       "<tr>\n",
       "  <th>No. Observations:</th>      <td>  6169</td>      <th>  AIC:               </th>          <td>1.525e+05</td>\n",
       "</tr>\n",
       "<tr>\n",
       "  <th>Df Residuals:</th>          <td>  6117</td>      <th>  BIC:               </th>          <td>1.528e+05</td>\n",
       "</tr>\n",
       "<tr>\n",
       "  <th>Df Model:</th>              <td>    52</td>      <th>                     </th>              <td> </td>    \n",
       "</tr>\n",
       "<tr>\n",
       "  <th>Covariance Type:</th>      <td>nonrobust</td>    <th>                     </th>              <td> </td>    \n",
       "</tr>\n",
       "</table>\n",
       "<table class=\"simpletable\">\n",
       "<tr>\n",
       "            <td></td>               <th>coef</th>     <th>std err</th>      <th>t</th>      <th>P>|t|</th>  <th>[0.025</th>    <th>0.975]</th>  \n",
       "</tr>\n",
       "<tr>\n",
       "  <th>Make</th>                  <td>  341.9880</td> <td>   44.804</td> <td>    7.633</td> <td> 0.000</td> <td>  254.157</td> <td>  429.819</td>\n",
       "</tr>\n",
       "<tr>\n",
       "  <th>Model</th>                 <td>   25.1793</td> <td>    6.122</td> <td>    4.113</td> <td> 0.000</td> <td>   13.178</td> <td>   37.180</td>\n",
       "</tr>\n",
       "<tr>\n",
       "  <th>Year</th>                  <td>   46.4163</td> <td>    3.482</td> <td>   13.330</td> <td> 0.000</td> <td>   39.590</td> <td>   53.242</td>\n",
       "</tr>\n",
       "<tr>\n",
       "  <th>Engine_Size</th>           <td> 1.337e+04</td> <td>  688.176</td> <td>   19.429</td> <td> 0.000</td> <td>  1.2e+04</td> <td> 1.47e+04</td>\n",
       "</tr>\n",
       "<tr>\n",
       "  <th>Gear_Type</th>             <td> -1.17e+04</td> <td> 2331.563</td> <td>   -5.019</td> <td> 0.000</td> <td>-1.63e+04</td> <td>-7131.863</td>\n",
       "</tr>\n",
       "<tr>\n",
       "  <th>Km_run</th>                <td>   -0.1325</td> <td>    0.007</td> <td>  -19.796</td> <td> 0.000</td> <td>   -0.146</td> <td>   -0.119</td>\n",
       "</tr>\n",
       "<tr>\n",
       "  <th>Negotiable</th>            <td>-1.859e+04</td> <td> 1606.119</td> <td>  -11.573</td> <td> 0.000</td> <td>-2.17e+04</td> <td>-1.54e+04</td>\n",
       "</tr>\n",
       "<tr>\n",
       "  <th>Origin_Other</th>          <td>-1.786e+04</td> <td> 2962.451</td> <td>   -6.030</td> <td> 0.000</td> <td>-2.37e+04</td> <td>-1.21e+04</td>\n",
       "</tr>\n",
       "<tr>\n",
       "  <th>Origin_Saudi</th>          <td>-1.966e+04</td> <td> 2251.903</td> <td>   -8.729</td> <td> 0.000</td> <td>-2.41e+04</td> <td>-1.52e+04</td>\n",
       "</tr>\n",
       "<tr>\n",
       "  <th>Color_Black</th>           <td> 1.296e+04</td> <td> 3514.139</td> <td>    3.689</td> <td> 0.000</td> <td> 6073.544</td> <td> 1.99e+04</td>\n",
       "</tr>\n",
       "<tr>\n",
       "  <th>Color_Blue</th>            <td>-7341.7393</td> <td> 5083.241</td> <td>   -1.444</td> <td> 0.149</td> <td>-1.73e+04</td> <td> 2623.201</td>\n",
       "</tr>\n",
       "<tr>\n",
       "  <th>Color_Bronze</th>          <td> 3643.8720</td> <td> 5760.473</td> <td>    0.633</td> <td> 0.527</td> <td>-7648.681</td> <td> 1.49e+04</td>\n",
       "</tr>\n",
       "<tr>\n",
       "  <th>Color_Brown</th>           <td>-4344.9750</td> <td> 4570.022</td> <td>   -0.951</td> <td> 0.342</td> <td>-1.33e+04</td> <td> 4613.877</td>\n",
       "</tr>\n",
       "<tr>\n",
       "  <th>Color_Golden</th>          <td> 1544.5934</td> <td> 5314.861</td> <td>    0.291</td> <td> 0.771</td> <td>-8874.405</td> <td>  1.2e+04</td>\n",
       "</tr>\n",
       "<tr>\n",
       "  <th>Color_Green</th>           <td>-1.204e+04</td> <td> 1.07e+04</td> <td>   -1.126</td> <td> 0.260</td> <td> -3.3e+04</td> <td> 8928.385</td>\n",
       "</tr>\n",
       "<tr>\n",
       "  <th>Color_Grey</th>            <td> 4513.9449</td> <td> 3726.856</td> <td>    1.211</td> <td> 0.226</td> <td>-2792.004</td> <td> 1.18e+04</td>\n",
       "</tr>\n",
       "<tr>\n",
       "  <th>Color_Navy</th>            <td> 5187.9155</td> <td> 5700.694</td> <td>    0.910</td> <td> 0.363</td> <td>-5987.450</td> <td> 1.64e+04</td>\n",
       "</tr>\n",
       "<tr>\n",
       "  <th>Color_Oily</th>            <td>-2720.0817</td> <td> 9341.576</td> <td>   -0.291</td> <td> 0.771</td> <td> -2.1e+04</td> <td> 1.56e+04</td>\n",
       "</tr>\n",
       "<tr>\n",
       "  <th>Color_Orange</th>          <td>-2.465e+04</td> <td>  1.8e+04</td> <td>   -1.366</td> <td> 0.172</td> <td>   -6e+04</td> <td> 1.07e+04</td>\n",
       "</tr>\n",
       "<tr>\n",
       "  <th>Color_Red</th>             <td> 1569.2885</td> <td> 4854.529</td> <td>    0.323</td> <td> 0.747</td> <td>-7947.297</td> <td> 1.11e+04</td>\n",
       "</tr>\n",
       "<tr>\n",
       "  <th>Color_Silver</th>          <td>-8305.4690</td> <td> 3593.729</td> <td>   -2.311</td> <td> 0.021</td> <td>-1.54e+04</td> <td>-1260.495</td>\n",
       "</tr>\n",
       "<tr>\n",
       "  <th>Color_White</th>           <td> 1045.2156</td> <td> 3054.585</td> <td>    0.342</td> <td> 0.732</td> <td>-4942.846</td> <td> 7033.277</td>\n",
       "</tr>\n",
       "<tr>\n",
       "  <th>Color_Yellow</th>          <td>-9928.9949</td> <td> 1.72e+04</td> <td>   -0.577</td> <td> 0.564</td> <td>-4.37e+04</td> <td> 2.38e+04</td>\n",
       "</tr>\n",
       "<tr>\n",
       "  <th>Options_Semi Full</th>     <td>-2.142e+04</td> <td> 1810.243</td> <td>  -11.830</td> <td> 0.000</td> <td> -2.5e+04</td> <td>-1.79e+04</td>\n",
       "</tr>\n",
       "<tr>\n",
       "  <th>Options_Standard</th>      <td>-2.865e+04</td> <td> 1816.705</td> <td>  -15.773</td> <td> 0.000</td> <td>-3.22e+04</td> <td>-2.51e+04</td>\n",
       "</tr>\n",
       "<tr>\n",
       "  <th>Fuel_Type_Gas</th>         <td>-2.031e+04</td> <td> 5097.012</td> <td>   -3.984</td> <td> 0.000</td> <td>-3.03e+04</td> <td>-1.03e+04</td>\n",
       "</tr>\n",
       "<tr>\n",
       "  <th>Fuel_Type_Hybrid</th>      <td> 1.397e+04</td> <td>  1.5e+04</td> <td>    0.931</td> <td> 0.352</td> <td>-1.54e+04</td> <td> 4.34e+04</td>\n",
       "</tr>\n",
       "<tr>\n",
       "  <th>Region_Al-Ahsa</th>        <td>-8454.9821</td> <td> 4457.267</td> <td>   -1.897</td> <td> 0.058</td> <td>-1.72e+04</td> <td>  282.829</td>\n",
       "</tr>\n",
       "<tr>\n",
       "  <th>Region_Al-Baha</th>        <td>-1.747e+04</td> <td> 9483.052</td> <td>   -1.842</td> <td> 0.066</td> <td>-3.61e+04</td> <td> 1121.841</td>\n",
       "</tr>\n",
       "<tr>\n",
       "  <th>Region_Al-Jouf</th>        <td>-3.741e+04</td> <td> 1.11e+04</td> <td>   -3.363</td> <td> 0.001</td> <td>-5.92e+04</td> <td>-1.56e+04</td>\n",
       "</tr>\n",
       "<tr>\n",
       "  <th>Region_Al-Medina</th>      <td>-1.474e+04</td> <td> 3954.066</td> <td>   -3.727</td> <td> 0.000</td> <td>-2.25e+04</td> <td>-6984.715</td>\n",
       "</tr>\n",
       "<tr>\n",
       "  <th>Region_Al-Namas</th>       <td>-2.132e+04</td> <td> 1.63e+04</td> <td>   -1.307</td> <td> 0.191</td> <td>-5.33e+04</td> <td> 1.07e+04</td>\n",
       "</tr>\n",
       "<tr>\n",
       "  <th>Region_Arar</th>           <td>-1.947e+04</td> <td> 1.09e+04</td> <td>   -1.785</td> <td> 0.074</td> <td>-4.09e+04</td> <td> 1916.678</td>\n",
       "</tr>\n",
       "<tr>\n",
       "  <th>Region_Aseer</th>          <td>-1.683e+04</td> <td> 4503.164</td> <td>   -3.738</td> <td> 0.000</td> <td>-2.57e+04</td> <td>-8006.379</td>\n",
       "</tr>\n",
       "<tr>\n",
       "  <th>Region_Besha</th>          <td>-1.557e+04</td> <td>  1.3e+04</td> <td>   -1.198</td> <td> 0.231</td> <td>-4.11e+04</td> <td> 9910.810</td>\n",
       "</tr>\n",
       "<tr>\n",
       "  <th>Region_Dammam</th>         <td> 7531.5333</td> <td> 2058.870</td> <td>    3.658</td> <td> 0.000</td> <td> 3495.423</td> <td> 1.16e+04</td>\n",
       "</tr>\n",
       "<tr>\n",
       "  <th>Region_Hafar Al-Batin</th> <td>-2.102e+04</td> <td> 7694.751</td> <td>   -2.732</td> <td> 0.006</td> <td>-3.61e+04</td> <td>-5934.596</td>\n",
       "</tr>\n",
       "<tr>\n",
       "  <th>Region_Hail</th>           <td>-1.286e+04</td> <td> 7334.931</td> <td>   -1.753</td> <td> 0.080</td> <td>-2.72e+04</td> <td> 1519.599</td>\n",
       "</tr>\n",
       "<tr>\n",
       "  <th>Region_Jazan</th>          <td>-1.487e+04</td> <td> 6702.437</td> <td>   -2.219</td> <td> 0.027</td> <td> -2.8e+04</td> <td>-1731.521</td>\n",
       "</tr>\n",
       "<tr>\n",
       "  <th>Region_Jeddah</th>         <td>-6867.7774</td> <td> 2287.001</td> <td>   -3.003</td> <td> 0.003</td> <td>-1.14e+04</td> <td>-2384.451</td>\n",
       "</tr>\n",
       "<tr>\n",
       "  <th>Region_Jubail</th>         <td>-1.891e+04</td> <td> 7036.367</td> <td>   -2.687</td> <td> 0.007</td> <td>-3.27e+04</td> <td>-5113.797</td>\n",
       "</tr>\n",
       "<tr>\n",
       "  <th>Region_Khobar</th>         <td>-9009.5017</td> <td> 7081.692</td> <td>   -1.272</td> <td> 0.203</td> <td>-2.29e+04</td> <td> 4873.106</td>\n",
       "</tr>\n",
       "<tr>\n",
       "  <th>Region_Makkah</th>         <td>-1.015e+04</td> <td> 4452.996</td> <td>   -2.280</td> <td> 0.023</td> <td>-1.89e+04</td> <td>-1425.414</td>\n",
       "</tr>\n",
       "<tr>\n",
       "  <th>Region_Najran</th>         <td>-1.452e+04</td> <td> 8500.377</td> <td>   -1.709</td> <td> 0.088</td> <td>-3.12e+04</td> <td> 2139.863</td>\n",
       "</tr>\n",
       "<tr>\n",
       "  <th>Region_Qassim</th>         <td>-8968.7774</td> <td> 3901.236</td> <td>   -2.299</td> <td> 0.022</td> <td>-1.66e+04</td> <td>-1320.982</td>\n",
       "</tr>\n",
       "<tr>\n",
       "  <th>Region_Qurayyat</th>       <td> -2.11e+04</td> <td> 1.78e+04</td> <td>   -1.183</td> <td> 0.237</td> <td>-5.61e+04</td> <td> 1.39e+04</td>\n",
       "</tr>\n",
       "<tr>\n",
       "  <th>Region_Sabya</th>          <td>-9453.3125</td> <td> 2.31e+04</td> <td>   -0.410</td> <td> 0.682</td> <td>-5.47e+04</td> <td> 3.58e+04</td>\n",
       "</tr>\n",
       "<tr>\n",
       "  <th>Region_Sakaka</th>         <td> 1.008e+04</td> <td>  1.7e+04</td> <td>    0.592</td> <td> 0.554</td> <td>-2.33e+04</td> <td> 4.34e+04</td>\n",
       "</tr>\n",
       "<tr>\n",
       "  <th>Region_Tabouk</th>         <td>-2.847e+04</td> <td> 5674.379</td> <td>   -5.017</td> <td> 0.000</td> <td>-3.96e+04</td> <td>-1.73e+04</td>\n",
       "</tr>\n",
       "<tr>\n",
       "  <th>Region_Taef</th>           <td>-1.751e+04</td> <td> 5820.665</td> <td>   -3.009</td> <td> 0.003</td> <td>-2.89e+04</td> <td>-6101.404</td>\n",
       "</tr>\n",
       "<tr>\n",
       "  <th>Region_Wadi Dawasir</th>   <td>-1.812e+04</td> <td>  1.8e+04</td> <td>   -1.006</td> <td> 0.314</td> <td>-5.34e+04</td> <td> 1.72e+04</td>\n",
       "</tr>\n",
       "<tr>\n",
       "  <th>Region_Yanbu</th>          <td>-2.151e+04</td> <td> 1.05e+04</td> <td>   -2.043</td> <td> 0.041</td> <td>-4.22e+04</td> <td> -873.379</td>\n",
       "</tr>\n",
       "</table>\n",
       "<table class=\"simpletable\">\n",
       "<tr>\n",
       "  <th>Omnibus:</th>       <td>5805.017</td> <th>  Durbin-Watson:     </th>  <td>   1.967</td> \n",
       "</tr>\n",
       "<tr>\n",
       "  <th>Prob(Omnibus):</th>  <td> 0.000</td>  <th>  Jarque-Bera (JB):  </th> <td>445568.716</td>\n",
       "</tr>\n",
       "<tr>\n",
       "  <th>Skew:</th>           <td> 4.318</td>  <th>  Prob(JB):          </th>  <td>    0.00</td> \n",
       "</tr>\n",
       "<tr>\n",
       "  <th>Kurtosis:</th>       <td>43.729</td>  <th>  Cond. No.          </th>  <td>5.47e+06</td> \n",
       "</tr>\n",
       "</table><br/><br/>Notes:<br/>[1] R² is computed without centering (uncentered) since the model does not contain a constant.<br/>[2] Standard Errors assume that the covariance matrix of the errors is correctly specified.<br/>[3] The condition number is large, 5.47e+06. This might indicate that there are<br/>strong multicollinearity or other numerical problems."
      ],
      "text/latex": [
       "\\begin{center}\n",
       "\\begin{tabular}{lclc}\n",
       "\\toprule\n",
       "\\textbf{Dep. Variable:}         &      Price       & \\textbf{  R-squared (uncentered):}      &     0.665   \\\\\n",
       "\\textbf{Model:}                 &       OLS        & \\textbf{  Adj. R-squared (uncentered):} &     0.662   \\\\\n",
       "\\textbf{Method:}                &  Least Squares   & \\textbf{  F-statistic:       }          &     233.8   \\\\\n",
       "\\textbf{Date:}                  & Sat, 24 Feb 2024 & \\textbf{  Prob (F-statistic):}          &     0.00    \\\\\n",
       "\\textbf{Time:}                  &     19:23:28     & \\textbf{  Log-Likelihood:    }          &   -76195.   \\\\\n",
       "\\textbf{No. Observations:}      &        6169      & \\textbf{  AIC:               }          & 1.525e+05   \\\\\n",
       "\\textbf{Df Residuals:}          &        6117      & \\textbf{  BIC:               }          & 1.528e+05   \\\\\n",
       "\\textbf{Df Model:}              &          52      & \\textbf{                     }          &             \\\\\n",
       "\\textbf{Covariance Type:}       &    nonrobust     & \\textbf{                     }          &             \\\\\n",
       "\\bottomrule\n",
       "\\end{tabular}\n",
       "\\begin{tabular}{lcccccc}\n",
       "                                & \\textbf{coef} & \\textbf{std err} & \\textbf{t} & \\textbf{P$> |$t$|$} & \\textbf{[0.025} & \\textbf{0.975]}  \\\\\n",
       "\\midrule\n",
       "\\textbf{Make}                   &     341.9880  &       44.804     &     7.633  &         0.000        &      254.157    &      429.819     \\\\\n",
       "\\textbf{Model}                  &      25.1793  &        6.122     &     4.113  &         0.000        &       13.178    &       37.180     \\\\\n",
       "\\textbf{Year}                   &      46.4163  &        3.482     &    13.330  &         0.000        &       39.590    &       53.242     \\\\\n",
       "\\textbf{Engine\\_Size}           &    1.337e+04  &      688.176     &    19.429  &         0.000        &      1.2e+04    &     1.47e+04     \\\\\n",
       "\\textbf{Gear\\_Type}             &    -1.17e+04  &     2331.563     &    -5.019  &         0.000        &    -1.63e+04    &    -7131.863     \\\\\n",
       "\\textbf{Km\\_run}                &      -0.1325  &        0.007     &   -19.796  &         0.000        &       -0.146    &       -0.119     \\\\\n",
       "\\textbf{Negotiable}             &   -1.859e+04  &     1606.119     &   -11.573  &         0.000        &    -2.17e+04    &    -1.54e+04     \\\\\n",
       "\\textbf{Origin\\_Other}          &   -1.786e+04  &     2962.451     &    -6.030  &         0.000        &    -2.37e+04    &    -1.21e+04     \\\\\n",
       "\\textbf{Origin\\_Saudi}          &   -1.966e+04  &     2251.903     &    -8.729  &         0.000        &    -2.41e+04    &    -1.52e+04     \\\\\n",
       "\\textbf{Color\\_Black}           &    1.296e+04  &     3514.139     &     3.689  &         0.000        &     6073.544    &     1.99e+04     \\\\\n",
       "\\textbf{Color\\_Blue}            &   -7341.7393  &     5083.241     &    -1.444  &         0.149        &    -1.73e+04    &     2623.201     \\\\\n",
       "\\textbf{Color\\_Bronze}          &    3643.8720  &     5760.473     &     0.633  &         0.527        &    -7648.681    &     1.49e+04     \\\\\n",
       "\\textbf{Color\\_Brown}           &   -4344.9750  &     4570.022     &    -0.951  &         0.342        &    -1.33e+04    &     4613.877     \\\\\n",
       "\\textbf{Color\\_Golden}          &    1544.5934  &     5314.861     &     0.291  &         0.771        &    -8874.405    &      1.2e+04     \\\\\n",
       "\\textbf{Color\\_Green}           &   -1.204e+04  &     1.07e+04     &    -1.126  &         0.260        &     -3.3e+04    &     8928.385     \\\\\n",
       "\\textbf{Color\\_Grey}            &    4513.9449  &     3726.856     &     1.211  &         0.226        &    -2792.004    &     1.18e+04     \\\\\n",
       "\\textbf{Color\\_Navy}            &    5187.9155  &     5700.694     &     0.910  &         0.363        &    -5987.450    &     1.64e+04     \\\\\n",
       "\\textbf{Color\\_Oily}            &   -2720.0817  &     9341.576     &    -0.291  &         0.771        &     -2.1e+04    &     1.56e+04     \\\\\n",
       "\\textbf{Color\\_Orange}          &   -2.465e+04  &      1.8e+04     &    -1.366  &         0.172        &       -6e+04    &     1.07e+04     \\\\\n",
       "\\textbf{Color\\_Red}             &    1569.2885  &     4854.529     &     0.323  &         0.747        &    -7947.297    &     1.11e+04     \\\\\n",
       "\\textbf{Color\\_Silver}          &   -8305.4690  &     3593.729     &    -2.311  &         0.021        &    -1.54e+04    &    -1260.495     \\\\\n",
       "\\textbf{Color\\_White}           &    1045.2156  &     3054.585     &     0.342  &         0.732        &    -4942.846    &     7033.277     \\\\\n",
       "\\textbf{Color\\_Yellow}          &   -9928.9949  &     1.72e+04     &    -0.577  &         0.564        &    -4.37e+04    &     2.38e+04     \\\\\n",
       "\\textbf{Options\\_Semi Full}     &   -2.142e+04  &     1810.243     &   -11.830  &         0.000        &     -2.5e+04    &    -1.79e+04     \\\\\n",
       "\\textbf{Options\\_Standard}      &   -2.865e+04  &     1816.705     &   -15.773  &         0.000        &    -3.22e+04    &    -2.51e+04     \\\\\n",
       "\\textbf{Fuel\\_Type\\_Gas}        &   -2.031e+04  &     5097.012     &    -3.984  &         0.000        &    -3.03e+04    &    -1.03e+04     \\\\\n",
       "\\textbf{Fuel\\_Type\\_Hybrid}     &    1.397e+04  &      1.5e+04     &     0.931  &         0.352        &    -1.54e+04    &     4.34e+04     \\\\\n",
       "\\textbf{Region\\_Al-Ahsa}        &   -8454.9821  &     4457.267     &    -1.897  &         0.058        &    -1.72e+04    &      282.829     \\\\\n",
       "\\textbf{Region\\_Al-Baha}        &   -1.747e+04  &     9483.052     &    -1.842  &         0.066        &    -3.61e+04    &     1121.841     \\\\\n",
       "\\textbf{Region\\_Al-Jouf}        &   -3.741e+04  &     1.11e+04     &    -3.363  &         0.001        &    -5.92e+04    &    -1.56e+04     \\\\\n",
       "\\textbf{Region\\_Al-Medina}      &   -1.474e+04  &     3954.066     &    -3.727  &         0.000        &    -2.25e+04    &    -6984.715     \\\\\n",
       "\\textbf{Region\\_Al-Namas}       &   -2.132e+04  &     1.63e+04     &    -1.307  &         0.191        &    -5.33e+04    &     1.07e+04     \\\\\n",
       "\\textbf{Region\\_Arar}           &   -1.947e+04  &     1.09e+04     &    -1.785  &         0.074        &    -4.09e+04    &     1916.678     \\\\\n",
       "\\textbf{Region\\_Aseer}          &   -1.683e+04  &     4503.164     &    -3.738  &         0.000        &    -2.57e+04    &    -8006.379     \\\\\n",
       "\\textbf{Region\\_Besha}          &   -1.557e+04  &      1.3e+04     &    -1.198  &         0.231        &    -4.11e+04    &     9910.810     \\\\\n",
       "\\textbf{Region\\_Dammam}         &    7531.5333  &     2058.870     &     3.658  &         0.000        &     3495.423    &     1.16e+04     \\\\\n",
       "\\textbf{Region\\_Hafar Al-Batin} &   -2.102e+04  &     7694.751     &    -2.732  &         0.006        &    -3.61e+04    &    -5934.596     \\\\\n",
       "\\textbf{Region\\_Hail}           &   -1.286e+04  &     7334.931     &    -1.753  &         0.080        &    -2.72e+04    &     1519.599     \\\\\n",
       "\\textbf{Region\\_Jazan}          &   -1.487e+04  &     6702.437     &    -2.219  &         0.027        &     -2.8e+04    &    -1731.521     \\\\\n",
       "\\textbf{Region\\_Jeddah}         &   -6867.7774  &     2287.001     &    -3.003  &         0.003        &    -1.14e+04    &    -2384.451     \\\\\n",
       "\\textbf{Region\\_Jubail}         &   -1.891e+04  &     7036.367     &    -2.687  &         0.007        &    -3.27e+04    &    -5113.797     \\\\\n",
       "\\textbf{Region\\_Khobar}         &   -9009.5017  &     7081.692     &    -1.272  &         0.203        &    -2.29e+04    &     4873.106     \\\\\n",
       "\\textbf{Region\\_Makkah}         &   -1.015e+04  &     4452.996     &    -2.280  &         0.023        &    -1.89e+04    &    -1425.414     \\\\\n",
       "\\textbf{Region\\_Najran}         &   -1.452e+04  &     8500.377     &    -1.709  &         0.088        &    -3.12e+04    &     2139.863     \\\\\n",
       "\\textbf{Region\\_Qassim}         &   -8968.7774  &     3901.236     &    -2.299  &         0.022        &    -1.66e+04    &    -1320.982     \\\\\n",
       "\\textbf{Region\\_Qurayyat}       &    -2.11e+04  &     1.78e+04     &    -1.183  &         0.237        &    -5.61e+04    &     1.39e+04     \\\\\n",
       "\\textbf{Region\\_Sabya}          &   -9453.3125  &     2.31e+04     &    -0.410  &         0.682        &    -5.47e+04    &     3.58e+04     \\\\\n",
       "\\textbf{Region\\_Sakaka}         &    1.008e+04  &      1.7e+04     &     0.592  &         0.554        &    -2.33e+04    &     4.34e+04     \\\\\n",
       "\\textbf{Region\\_Tabouk}         &   -2.847e+04  &     5674.379     &    -5.017  &         0.000        &    -3.96e+04    &    -1.73e+04     \\\\\n",
       "\\textbf{Region\\_Taef}           &   -1.751e+04  &     5820.665     &    -3.009  &         0.003        &    -2.89e+04    &    -6101.404     \\\\\n",
       "\\textbf{Region\\_Wadi Dawasir}   &   -1.812e+04  &      1.8e+04     &    -1.006  &         0.314        &    -5.34e+04    &     1.72e+04     \\\\\n",
       "\\textbf{Region\\_Yanbu}          &   -2.151e+04  &     1.05e+04     &    -2.043  &         0.041        &    -4.22e+04    &     -873.379     \\\\\n",
       "\\bottomrule\n",
       "\\end{tabular}\n",
       "\\begin{tabular}{lclc}\n",
       "\\textbf{Omnibus:}       & 5805.017 & \\textbf{  Durbin-Watson:     } &     1.967   \\\\\n",
       "\\textbf{Prob(Omnibus):} &   0.000  & \\textbf{  Jarque-Bera (JB):  } & 445568.716  \\\\\n",
       "\\textbf{Skew:}          &   4.318  & \\textbf{  Prob(JB):          } &      0.00   \\\\\n",
       "\\textbf{Kurtosis:}      &  43.729  & \\textbf{  Cond. No.          } &  5.47e+06   \\\\\n",
       "\\bottomrule\n",
       "\\end{tabular}\n",
       "%\\caption{OLS Regression Results}\n",
       "\\end{center}\n",
       "\n",
       "Notes: \\newline\n",
       " [1] R² is computed without centering (uncentered) since the model does not contain a constant. \\newline\n",
       " [2] Standard Errors assume that the covariance matrix of the errors is correctly specified. \\newline\n",
       " [3] The condition number is large, 5.47e+06. This might indicate that there are \\newline\n",
       " strong multicollinearity or other numerical problems."
      ],
      "text/plain": [
       "<class 'statsmodels.iolib.summary.Summary'>\n",
       "\"\"\"\n",
       "                                 OLS Regression Results                                \n",
       "=======================================================================================\n",
       "Dep. Variable:                  Price   R-squared (uncentered):                   0.665\n",
       "Model:                            OLS   Adj. R-squared (uncentered):              0.662\n",
       "Method:                 Least Squares   F-statistic:                              233.8\n",
       "Date:                Sat, 24 Feb 2024   Prob (F-statistic):                        0.00\n",
       "Time:                        19:23:28   Log-Likelihood:                         -76195.\n",
       "No. Observations:                6169   AIC:                                  1.525e+05\n",
       "Df Residuals:                    6117   BIC:                                  1.528e+05\n",
       "Df Model:                          52                                                  \n",
       "Covariance Type:            nonrobust                                                  \n",
       "=========================================================================================\n",
       "                            coef    std err          t      P>|t|      [0.025      0.975]\n",
       "-----------------------------------------------------------------------------------------\n",
       "Make                    341.9880     44.804      7.633      0.000     254.157     429.819\n",
       "Model                    25.1793      6.122      4.113      0.000      13.178      37.180\n",
       "Year                     46.4163      3.482     13.330      0.000      39.590      53.242\n",
       "Engine_Size            1.337e+04    688.176     19.429      0.000     1.2e+04    1.47e+04\n",
       "Gear_Type              -1.17e+04   2331.563     -5.019      0.000   -1.63e+04   -7131.863\n",
       "Km_run                   -0.1325      0.007    -19.796      0.000      -0.146      -0.119\n",
       "Negotiable            -1.859e+04   1606.119    -11.573      0.000   -2.17e+04   -1.54e+04\n",
       "Origin_Other          -1.786e+04   2962.451     -6.030      0.000   -2.37e+04   -1.21e+04\n",
       "Origin_Saudi          -1.966e+04   2251.903     -8.729      0.000   -2.41e+04   -1.52e+04\n",
       "Color_Black            1.296e+04   3514.139      3.689      0.000    6073.544    1.99e+04\n",
       "Color_Blue            -7341.7393   5083.241     -1.444      0.149   -1.73e+04    2623.201\n",
       "Color_Bronze           3643.8720   5760.473      0.633      0.527   -7648.681    1.49e+04\n",
       "Color_Brown           -4344.9750   4570.022     -0.951      0.342   -1.33e+04    4613.877\n",
       "Color_Golden           1544.5934   5314.861      0.291      0.771   -8874.405     1.2e+04\n",
       "Color_Green           -1.204e+04   1.07e+04     -1.126      0.260    -3.3e+04    8928.385\n",
       "Color_Grey             4513.9449   3726.856      1.211      0.226   -2792.004    1.18e+04\n",
       "Color_Navy             5187.9155   5700.694      0.910      0.363   -5987.450    1.64e+04\n",
       "Color_Oily            -2720.0817   9341.576     -0.291      0.771    -2.1e+04    1.56e+04\n",
       "Color_Orange          -2.465e+04    1.8e+04     -1.366      0.172      -6e+04    1.07e+04\n",
       "Color_Red              1569.2885   4854.529      0.323      0.747   -7947.297    1.11e+04\n",
       "Color_Silver          -8305.4690   3593.729     -2.311      0.021   -1.54e+04   -1260.495\n",
       "Color_White            1045.2156   3054.585      0.342      0.732   -4942.846    7033.277\n",
       "Color_Yellow          -9928.9949   1.72e+04     -0.577      0.564   -4.37e+04    2.38e+04\n",
       "Options_Semi Full     -2.142e+04   1810.243    -11.830      0.000    -2.5e+04   -1.79e+04\n",
       "Options_Standard      -2.865e+04   1816.705    -15.773      0.000   -3.22e+04   -2.51e+04\n",
       "Fuel_Type_Gas         -2.031e+04   5097.012     -3.984      0.000   -3.03e+04   -1.03e+04\n",
       "Fuel_Type_Hybrid       1.397e+04    1.5e+04      0.931      0.352   -1.54e+04    4.34e+04\n",
       "Region_Al-Ahsa        -8454.9821   4457.267     -1.897      0.058   -1.72e+04     282.829\n",
       "Region_Al-Baha        -1.747e+04   9483.052     -1.842      0.066   -3.61e+04    1121.841\n",
       "Region_Al-Jouf        -3.741e+04   1.11e+04     -3.363      0.001   -5.92e+04   -1.56e+04\n",
       "Region_Al-Medina      -1.474e+04   3954.066     -3.727      0.000   -2.25e+04   -6984.715\n",
       "Region_Al-Namas       -2.132e+04   1.63e+04     -1.307      0.191   -5.33e+04    1.07e+04\n",
       "Region_Arar           -1.947e+04   1.09e+04     -1.785      0.074   -4.09e+04    1916.678\n",
       "Region_Aseer          -1.683e+04   4503.164     -3.738      0.000   -2.57e+04   -8006.379\n",
       "Region_Besha          -1.557e+04    1.3e+04     -1.198      0.231   -4.11e+04    9910.810\n",
       "Region_Dammam          7531.5333   2058.870      3.658      0.000    3495.423    1.16e+04\n",
       "Region_Hafar Al-Batin -2.102e+04   7694.751     -2.732      0.006   -3.61e+04   -5934.596\n",
       "Region_Hail           -1.286e+04   7334.931     -1.753      0.080   -2.72e+04    1519.599\n",
       "Region_Jazan          -1.487e+04   6702.437     -2.219      0.027    -2.8e+04   -1731.521\n",
       "Region_Jeddah         -6867.7774   2287.001     -3.003      0.003   -1.14e+04   -2384.451\n",
       "Region_Jubail         -1.891e+04   7036.367     -2.687      0.007   -3.27e+04   -5113.797\n",
       "Region_Khobar         -9009.5017   7081.692     -1.272      0.203   -2.29e+04    4873.106\n",
       "Region_Makkah         -1.015e+04   4452.996     -2.280      0.023   -1.89e+04   -1425.414\n",
       "Region_Najran         -1.452e+04   8500.377     -1.709      0.088   -3.12e+04    2139.863\n",
       "Region_Qassim         -8968.7774   3901.236     -2.299      0.022   -1.66e+04   -1320.982\n",
       "Region_Qurayyat        -2.11e+04   1.78e+04     -1.183      0.237   -5.61e+04    1.39e+04\n",
       "Region_Sabya          -9453.3125   2.31e+04     -0.410      0.682   -5.47e+04    3.58e+04\n",
       "Region_Sakaka          1.008e+04    1.7e+04      0.592      0.554   -2.33e+04    4.34e+04\n",
       "Region_Tabouk         -2.847e+04   5674.379     -5.017      0.000   -3.96e+04   -1.73e+04\n",
       "Region_Taef           -1.751e+04   5820.665     -3.009      0.003   -2.89e+04   -6101.404\n",
       "Region_Wadi Dawasir   -1.812e+04    1.8e+04     -1.006      0.314   -5.34e+04    1.72e+04\n",
       "Region_Yanbu          -2.151e+04   1.05e+04     -2.043      0.041   -4.22e+04    -873.379\n",
       "==============================================================================\n",
       "Omnibus:                     5805.017   Durbin-Watson:                   1.967\n",
       "Prob(Omnibus):                  0.000   Jarque-Bera (JB):           445568.716\n",
       "Skew:                           4.318   Prob(JB):                         0.00\n",
       "Kurtosis:                      43.729   Cond. No.                     5.47e+06\n",
       "==============================================================================\n",
       "\n",
       "Notes:\n",
       "[1] R² is computed without centering (uncentered) since the model does not contain a constant.\n",
       "[2] Standard Errors assume that the covariance matrix of the errors is correctly specified.\n",
       "[3] The condition number is large, 5.47e+06. This might indicate that there are\n",
       "strong multicollinearity or other numerical problems.\n",
       "\"\"\""
      ]
     },
     "execution_count": 92,
     "metadata": {},
     "output_type": "execute_result"
    }
   ],
   "source": [
    "reg_model=smf.OLS(endog=y_train,exog=x_train).fit()\n",
    "reg_model.summary()"
   ]
  },
  {
   "cell_type": "code",
   "execution_count": 93,
   "id": "6ae950a6",
   "metadata": {},
   "outputs": [],
   "source": [
    "scaler=StandardScaler()\n",
    "x_train=scaler.fit_transform(x_train)\n",
    "x_test=scaler.transform(x_test)"
   ]
  },
  {
   "cell_type": "code",
   "execution_count": 95,
   "id": "7236509d",
   "metadata": {},
   "outputs": [],
   "source": [
    "def models(model):\n",
    "    train_pred=model.predict(x_train)\n",
    "    pred_test=model.predict(x_test)\n",
    "    print('Training Accuracy is: ',r2_score(y_train,train_pred))\n",
    "    print('Test Accuracy is: ',r2_score(y_test,pred_test))"
   ]
  },
  {
   "cell_type": "code",
   "execution_count": 102,
   "id": "140bcaec",
   "metadata": {},
   "outputs": [
    {
     "data": {
      "text/html": [
       "<style>#sk-container-id-3 {color: black;background-color: white;}#sk-container-id-3 pre{padding: 0;}#sk-container-id-3 div.sk-toggleable {background-color: white;}#sk-container-id-3 label.sk-toggleable__label {cursor: pointer;display: block;width: 100%;margin-bottom: 0;padding: 0.3em;box-sizing: border-box;text-align: center;}#sk-container-id-3 label.sk-toggleable__label-arrow:before {content: \"▸\";float: left;margin-right: 0.25em;color: #696969;}#sk-container-id-3 label.sk-toggleable__label-arrow:hover:before {color: black;}#sk-container-id-3 div.sk-estimator:hover label.sk-toggleable__label-arrow:before {color: black;}#sk-container-id-3 div.sk-toggleable__content {max-height: 0;max-width: 0;overflow: hidden;text-align: left;background-color: #f0f8ff;}#sk-container-id-3 div.sk-toggleable__content pre {margin: 0.2em;color: black;border-radius: 0.25em;background-color: #f0f8ff;}#sk-container-id-3 input.sk-toggleable__control:checked~div.sk-toggleable__content {max-height: 200px;max-width: 100%;overflow: auto;}#sk-container-id-3 input.sk-toggleable__control:checked~label.sk-toggleable__label-arrow:before {content: \"▾\";}#sk-container-id-3 div.sk-estimator input.sk-toggleable__control:checked~label.sk-toggleable__label {background-color: #d4ebff;}#sk-container-id-3 div.sk-label input.sk-toggleable__control:checked~label.sk-toggleable__label {background-color: #d4ebff;}#sk-container-id-3 input.sk-hidden--visually {border: 0;clip: rect(1px 1px 1px 1px);clip: rect(1px, 1px, 1px, 1px);height: 1px;margin: -1px;overflow: hidden;padding: 0;position: absolute;width: 1px;}#sk-container-id-3 div.sk-estimator {font-family: monospace;background-color: #f0f8ff;border: 1px dotted black;border-radius: 0.25em;box-sizing: border-box;margin-bottom: 0.5em;}#sk-container-id-3 div.sk-estimator:hover {background-color: #d4ebff;}#sk-container-id-3 div.sk-parallel-item::after {content: \"\";width: 100%;border-bottom: 1px solid gray;flex-grow: 1;}#sk-container-id-3 div.sk-label:hover label.sk-toggleable__label {background-color: #d4ebff;}#sk-container-id-3 div.sk-serial::before {content: \"\";position: absolute;border-left: 1px solid gray;box-sizing: border-box;top: 0;bottom: 0;left: 50%;z-index: 0;}#sk-container-id-3 div.sk-serial {display: flex;flex-direction: column;align-items: center;background-color: white;padding-right: 0.2em;padding-left: 0.2em;position: relative;}#sk-container-id-3 div.sk-item {position: relative;z-index: 1;}#sk-container-id-3 div.sk-parallel {display: flex;align-items: stretch;justify-content: center;background-color: white;position: relative;}#sk-container-id-3 div.sk-item::before, #sk-container-id-3 div.sk-parallel-item::before {content: \"\";position: absolute;border-left: 1px solid gray;box-sizing: border-box;top: 0;bottom: 0;left: 50%;z-index: -1;}#sk-container-id-3 div.sk-parallel-item {display: flex;flex-direction: column;z-index: 1;position: relative;background-color: white;}#sk-container-id-3 div.sk-parallel-item:first-child::after {align-self: flex-end;width: 50%;}#sk-container-id-3 div.sk-parallel-item:last-child::after {align-self: flex-start;width: 50%;}#sk-container-id-3 div.sk-parallel-item:only-child::after {width: 0;}#sk-container-id-3 div.sk-dashed-wrapped {border: 1px dashed gray;margin: 0 0.4em 0.5em 0.4em;box-sizing: border-box;padding-bottom: 0.4em;background-color: white;}#sk-container-id-3 div.sk-label label {font-family: monospace;font-weight: bold;display: inline-block;line-height: 1.2em;}#sk-container-id-3 div.sk-label-container {text-align: center;}#sk-container-id-3 div.sk-container {/* jupyter's `normalize.less` sets `[hidden] { display: none; }` but bootstrap.min.css set `[hidden] { display: none !important; }` so we also need the `!important` here to be able to override the default hidden behavior on the sphinx rendered scikit-learn.org. See: https://github.com/scikit-learn/scikit-learn/issues/21755 */display: inline-block !important;position: relative;}#sk-container-id-3 div.sk-text-repr-fallback {display: none;}</style><div id=\"sk-container-id-3\" class=\"sk-top-container\"><div class=\"sk-text-repr-fallback\"><pre>XGBRegressor(base_score=None, booster=None, callbacks=None,\n",
       "             colsample_bylevel=None, colsample_bynode=None,\n",
       "             colsample_bytree=None, device=None, early_stopping_rounds=None,\n",
       "             enable_categorical=False, eval_metric=None, feature_types=None,\n",
       "             gamma=None, grow_policy=None, importance_type=None,\n",
       "             interaction_constraints=None, learning_rate=None, max_bin=None,\n",
       "             max_cat_threshold=None, max_cat_to_onehot=None,\n",
       "             max_delta_step=None, max_depth=None, max_leaves=None,\n",
       "             min_child_weight=None, missing=nan, monotone_constraints=None,\n",
       "             multi_strategy=None, n_estimators=None, n_jobs=None,\n",
       "             num_parallel_tree=None, random_state=None, ...)</pre><b>In a Jupyter environment, please rerun this cell to show the HTML representation or trust the notebook. <br />On GitHub, the HTML representation is unable to render, please try loading this page with nbviewer.org.</b></div><div class=\"sk-container\" hidden><div class=\"sk-item\"><div class=\"sk-estimator sk-toggleable\"><input class=\"sk-toggleable__control sk-hidden--visually\" id=\"sk-estimator-id-3\" type=\"checkbox\" checked><label for=\"sk-estimator-id-3\" class=\"sk-toggleable__label sk-toggleable__label-arrow\">XGBRegressor</label><div class=\"sk-toggleable__content\"><pre>XGBRegressor(base_score=None, booster=None, callbacks=None,\n",
       "             colsample_bylevel=None, colsample_bynode=None,\n",
       "             colsample_bytree=None, device=None, early_stopping_rounds=None,\n",
       "             enable_categorical=False, eval_metric=None, feature_types=None,\n",
       "             gamma=None, grow_policy=None, importance_type=None,\n",
       "             interaction_constraints=None, learning_rate=None, max_bin=None,\n",
       "             max_cat_threshold=None, max_cat_to_onehot=None,\n",
       "             max_delta_step=None, max_depth=None, max_leaves=None,\n",
       "             min_child_weight=None, missing=nan, monotone_constraints=None,\n",
       "             multi_strategy=None, n_estimators=None, n_jobs=None,\n",
       "             num_parallel_tree=None, random_state=None, ...)</pre></div></div></div></div></div>"
      ],
      "text/plain": [
       "XGBRegressor(base_score=None, booster=None, callbacks=None,\n",
       "             colsample_bylevel=None, colsample_bynode=None,\n",
       "             colsample_bytree=None, device=None, early_stopping_rounds=None,\n",
       "             enable_categorical=False, eval_metric=None, feature_types=None,\n",
       "             gamma=None, grow_policy=None, importance_type=None,\n",
       "             interaction_constraints=None, learning_rate=None, max_bin=None,\n",
       "             max_cat_threshold=None, max_cat_to_onehot=None,\n",
       "             max_delta_step=None, max_depth=None, max_leaves=None,\n",
       "             min_child_weight=None, missing=nan, monotone_constraints=None,\n",
       "             multi_strategy=None, n_estimators=None, n_jobs=None,\n",
       "             num_parallel_tree=None, random_state=None, ...)"
      ]
     },
     "execution_count": 102,
     "metadata": {},
     "output_type": "execute_result"
    }
   ],
   "source": [
    "xgb=XGBRegressor()\n",
    "xgb.fit(x_train,y_train)"
   ]
  },
  {
   "cell_type": "code",
   "execution_count": 103,
   "id": "8cabf046",
   "metadata": {},
   "outputs": [
    {
     "name": "stdout",
     "output_type": "stream",
     "text": [
      "Training Accuracy is:  0.9730407105052965\n",
      "Test Accuracy is:  0.7870137453373829\n"
     ]
    }
   ],
   "source": [
    "models(xgb)"
   ]
  },
  {
   "cell_type": "code",
   "execution_count": 105,
   "id": "bbc5242b",
   "metadata": {},
   "outputs": [
    {
     "name": "stdout",
     "output_type": "stream",
     "text": [
      "Avg Training Accuracy is:  0.7876868235534455\n",
      "Max Training Accuracy is:  0.8682566985732902\n"
     ]
    }
   ],
   "source": [
    "cvs=cross_val_score(xgb,x_train,y_train,cv=10)\n",
    "print('Avg Training Accuracy is: ',cvs.mean())\n",
    "print('Max Training Accuracy is: ',cvs.max())"
   ]
  }
 ],
 "metadata": {
  "kernelspec": {
   "display_name": "Python 3 (ipykernel)",
   "language": "python",
   "name": "python3"
  },
  "language_info": {
   "codemirror_mode": {
    "name": "ipython",
    "version": 3
   },
   "file_extension": ".py",
   "mimetype": "text/x-python",
   "name": "python",
   "nbconvert_exporter": "python",
   "pygments_lexer": "ipython3",
   "version": "3.11.4"
  }
 },
 "nbformat": 4,
 "nbformat_minor": 5
}
